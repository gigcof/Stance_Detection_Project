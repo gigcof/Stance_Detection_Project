{
 "cells": [
  {
   "cell_type": "code",
   "execution_count": null,
   "metadata": {
    "colab": {
     "base_uri": "https://localhost:8080/",
     "height": 104
    },
    "colab_type": "code",
    "id": "mjaEMVBsPfip",
    "outputId": "8ba269e7-beb1-4001-b5c4-4420eaf53455"
   },
   "outputs": [],
   "source": [
    "from sklearn.neighbors import KNeighborsClassifier\n",
    "from sklearn.model_selection import train_test_split\n",
    "from sklearn.ensemble import RandomForestClassifier\n",
    "from sklearn.metrics import confusion_matrix\n",
    "from sklearn.tree import DecisionTreeClassifier\n",
    "from sklearn.metrics import f1_score\n",
    "from sklearn.linear_model import LogisticRegression\n",
    "from sklearn.preprocessing import StandardScaler\n",
    "from sklearn.naive_bayes import GaussianNB\n",
    "from sklearn.svm import SVC\n",
    "from sklearn.ensemble import GradientBoostingClassifier\n",
    "import pandas as pd\n",
    "from sklearn.base import clone\n",
    "import numpy as np\n",
    "import sklearn.metrics as metrics\n",
    "from sklearn.model_selection import StratifiedKFold\n",
    "from sklearn import preprocessing\n",
    "from sklearn import tree\n",
    "from sklearn.feature_extraction.text import TfidfVectorizer\n",
    "from sklearn.metrics import accuracy_score\n",
    "from collections import  Counter\n",
    "from imblearn.over_sampling import RandomOverSampler, SMOTE, ADASYN\n",
    "import matplotlib.pyplot as plt\n",
    "import seaborn as sns"
   ]
  },
  {
   "cell_type": "code",
   "execution_count": null,
   "metadata": {
    "colab": {},
    "colab_type": "code",
    "id": "eJsOgBQ7FgDf"
   },
   "outputs": [],
   "source": [
    "from IPython.display import display"
   ]
  },
  {
   "cell_type": "code",
   "execution_count": null,
   "metadata": {
    "colab": {},
    "colab_type": "code",
    "id": "VpJAfYl-h9-V"
   },
   "outputs": [],
   "source": [
    "df = pd.read_csv(\"FinalDataset.csv\")"
   ]
  },
  {
   "cell_type": "code",
   "execution_count": null,
   "metadata": {
    "colab": {
     "base_uri": "https://localhost:8080/",
     "height": 602
    },
    "colab_type": "code",
    "id": "-4N2OfQK51Dh",
    "outputId": "98b8ea67-9770-4459-c29d-5f89d8ece722"
   },
   "outputs": [],
   "source": [
    "df.head()"
   ]
  },
  {
   "cell_type": "code",
   "execution_count": null,
   "metadata": {
    "colab": {},
    "colab_type": "code",
    "id": "UOdP4Yia9evS"
   },
   "outputs": [],
   "source": [
    "cols = list(df.columns)\n",
    "index = cols.index(\"finalCleanText\")"
   ]
  },
  {
   "cell_type": "code",
   "execution_count": null,
   "metadata": {
    "colab": {
     "base_uri": "https://localhost:8080/",
     "height": 319
    },
    "colab_type": "code",
    "id": "ZufQiy3W8sgI",
    "outputId": "f8d92364-3662-42ea-abe7-c2e7750db147"
   },
   "outputs": [],
   "source": [
    "nanIndex = []\n",
    "nanIndex.extend(list(df[df[\"STANCE\"].isna()].index))\n",
    "nanIndex.extend(list(df[df[\"OPINION\"].isna()].index))\n",
    "nanIndex.extend(list(df[df[\"POL\"].isna()].index))\n",
    "for i in range(index,len(cols)):\n",
    "    print(\"checking\",cols[i])\n",
    "    nanIndex.extend(list(df[df[cols[i]].isna()].index))\n",
    "nanIndex = set(nanIndex)\n",
    "print(\"Total nan value found\",len(nanIndex))"
   ]
  },
  {
   "cell_type": "code",
   "execution_count": null,
   "metadata": {
    "colab": {},
    "colab_type": "code",
    "id": "Jvqn8iVZ9BmN"
   },
   "outputs": [],
   "source": [
    "df.drop(index=nanIndex,inplace=True)\n",
    "df.reset_index(inplace=True,drop=True)"
   ]
  },
  {
   "cell_type": "code",
   "execution_count": null,
   "metadata": {
    "colab": {},
    "colab_type": "code",
    "id": "-sJhsM2Ui6IB"
   },
   "outputs": [],
   "source": [
    "X  = df.iloc[:,index:].copy()\n",
    "# Y = pd.DataFrame() \n",
    "X[\"cleaned tweets\"] = df[\"finalCleanText\"].copy()\n",
    "del X[\"finalCleanText\"]\n",
    "# Y[\"STANCE\"] = df[\"STANCE\"].copy()"
   ]
  },
  {
   "cell_type": "code",
   "execution_count": null,
   "metadata": {
    "colab": {
     "base_uri": "https://localhost:8080/",
     "height": 602
    },
    "colab_type": "code",
    "id": "It1tlvZG6ueW",
    "outputId": "0e611e3e-03f8-4751-b56a-d586586f6dfb"
   },
   "outputs": [],
   "source": [
    "X.head()"
   ]
  },
  {
   "cell_type": "code",
   "execution_count": null,
   "metadata": {
    "colab": {},
    "colab_type": "code",
    "id": "P0lK2LoWHzxD"
   },
   "outputs": [],
   "source": [
    "class Results:\n",
    "    def __init__(self,X,df):\n",
    "        '''\n",
    "        Constructor\n",
    "        takes Raw X and df\n",
    "        '''\n",
    "        self.X = X.copy()\n",
    "        self.df = df.copy()\n",
    "        self.mapping = {2:\"Anti Govt\",0:\"Neutral\",1:\"Pro Govt\"}\n",
    "        self.trainingScore = {}\n",
    "        self.testingScore = {}\n",
    "    def compareModels(self):\n",
    "        #Training Accuracies\n",
    "        df_train = pd.DataFrame(pd.Series(self.trainingScore, name='Accuracy'))\n",
    "        plot = df_train.plot(kind = 'bar',grid=True,title=\"Comparison of Training Accuracy\")\n",
    "        plot.set_xlabel(\"Models\")\n",
    "        plot.set_ylabel(\"Stance Accuracy\")\n",
    "        fig = plot.get_figure()\n",
    "        fig.savefig(\"graphs/training_comparison.png\",bbox_inches='tight')\n",
    "        df_test = pd.DataFrame(pd.Series(self.testingScore, name='Accuracy'))\n",
    "        plot = df_test.plot(kind = 'bar',grid=True,title=\"Comparison of Testing Accuracy\")\n",
    "        plot.set_xlabel(\"Models\")\n",
    "        plot.set_ylabel(\"Stance Accuracy\")\n",
    "        fig = plot.get_figure()\n",
    "        fig.savefig(\"graphs/testing_comparison.png\",bbox_inches='tight')\n",
    "        \n",
    "    def createConfusionMatrix(self,y_true_c,y_pred_c,classifier_name):\n",
    "        y_true = [self.mapping[i] for i in y_true_c]\n",
    "        y_pred = [self.mapping[i] for i in y_pred_c]\n",
    "        labels = [self.mapping[key] for key in self.mapping]\n",
    "        cm = confusion_matrix(y_true, y_pred, labels=labels)\n",
    "        title = \"Confusion Matrix of \"+ classifier_name\n",
    "        fig = plt.figure()\n",
    "        ax= plt.subplot()\n",
    "        fig.add_subplot(ax)\n",
    "        sns.heatmap(cm, annot=True, ax = ax);\n",
    "        ax.set_xlabel('Predicted labels');ax.set_ylabel('True labels');\n",
    "        ax.set_title(title);\n",
    "        ax.xaxis.set_ticklabels(labels); ax.yaxis.set_ticklabels(labels);\n",
    "        fig.savefig(\"graphs/\"+title+\".png\")\n",
    "        return\n",
    "        \n",
    "    def createGraph(self,randomValues,smoteValues,normalValues,classifierName,typeAccuracy,y_value):\n",
    "        x_len = max(len(randomValues),len(smoteValues),len(normalValues))\n",
    "        title = \"Kcross \"+ typeAccuracy +\" Scores of \"+classifierName\n",
    "        x = [i for i in range(1,x_len+1)]\n",
    "        plt.title(title)\n",
    "        plt.plot(x,randomValues,'o-',label=\"Random Sampling\")\n",
    "        plt.plot(x, smoteValues,'o-',label=\"SMOTE Sampling\")\n",
    "        plt.plot(x, normalValues,'o-',label=\"No Sampling\")\n",
    "        plt.xticks([i for i in range(1,x_len+1)])\n",
    "        plt.legend()\n",
    "        plt.grid(True)\n",
    "        plt.ylabel(y_value+\" Accuracy\")\n",
    "        plt.xlabel(\"Folds\")\n",
    "        plt.legend()\n",
    "        plt.savefig(\"graphs/\"+title+\".png\")\n",
    "        plt.show()\n",
    "    def getValue(self,y_value):\n",
    "        '''\n",
    "            y_value can be 'STANCE' OR 'OPINION' OR 'POL'\n",
    "            Internal Method, not to be used by user\n",
    "            returns X,Y\n",
    "        '''\n",
    "        X = self.X.copy()\n",
    "        df = self.df.copy()\n",
    "        Y = pd.DataFrame()\n",
    "        Y[y_value] = df[y_value]\n",
    "        return X,Y\n",
    "    def process(self,X_train,y_train,X_test,y_test):\n",
    "        '''\n",
    "            y_value can be 'STANCE' OR 'OPINION' OR 'POL'\n",
    "            return in the order x_train,y_train,x_test,y_test\n",
    "            Xs should be dataframes and Ys should be np array\n",
    "        '''\n",
    "        tfidf = TfidfVectorizer(use_idf=True,min_df=0.01,max_df=0.9)\n",
    "        x_train = tfidf.fit_transform(list(X_train['cleaned tweets'].values))\n",
    "        x_test = tfidf.transform(list(X_test['cleaned tweets'].values))\n",
    "        x_train = x_train.toarray()\n",
    "        x_test = x_test.toarray()\n",
    "        x_train = pd.DataFrame(data=x_train,columns=list(tfidf.get_feature_names()))\n",
    "        x_test = pd.DataFrame(data=x_test,columns=list(tfidf.get_feature_names()))\n",
    "        del X_train['cleaned tweets']\n",
    "        del X_test['cleaned tweets']\n",
    "        x_train = pd.concat([X_train,x_train],axis=1)\n",
    "        x_test = pd.concat([X_test,x_test],axis=1)\n",
    "#         print(\"This is to check all x_train columns are unique\")\n",
    "        assert(len(list(x_train.columns)) == len(set(list(x_train.columns))))\n",
    "        assert(list(x_train.columns) == list(x_test.columns))\n",
    "        column = list(x_train.columns)\n",
    "        index = column.index('Positive_Score')\n",
    "#         print(\"min max scaler on\",column[:index])\n",
    "        for feature in column[:index]:\n",
    "            scaler = preprocessing.MinMaxScaler()\n",
    "            scaler.fit(x_train[feature].values.reshape((-1,1)))\n",
    "            x_train[feature] = scaler.transform(x_train[feature].values.reshape((-1,1)))\n",
    "            x_test[feature] = scaler.transform(x_test[feature].values.reshape((-1,1)))\n",
    "        x_train = x_train.values\n",
    "        x_test = x_test.values\n",
    "        y_train = y_train.reshape(-1)\n",
    "        y_test = y_test.reshape(-1)\n",
    "        return x_train,y_train,x_test,y_test\n",
    "    def evaluate(self,classifier,y_value,classifier_name=None,method = None):\n",
    "        '''\n",
    "            y_value can be 'STANCE' OR 'OPINION' OR 'POL'\n",
    "            prints accuracy and Confusion Matrix\n",
    "            classifier is sklearn classifier object\n",
    "            y_value is either STANCE,OP,Polarization\n",
    "            method is the oversampling objects, supports SMOTE etc..\n",
    "        '''\n",
    "        X,Y = self.getValue(y_value)\n",
    "        X_train, X_test, y_train, y_test = train_test_split(X,Y,test_size=0.25, random_state = 20)\n",
    "        X_train.reset_index(inplace=True,drop=True)\n",
    "        X_test.reset_index(inplace=True,drop=True)\n",
    "        y_train = y_train.values\n",
    "        y_test = y_test.values\n",
    "        x_train,y_train,x_test,y_test = self.process(X_train,y_train,X_test,y_test)\n",
    "        if method is not None:\n",
    "            x_train, y_train = method().fit_resample(x_train, y_train)\n",
    "        training_score,testing_score = self.runModel(x_train,x_test,y_train,y_test,classifier)\n",
    "        print(\"Y_value is\",y_value)\n",
    "        print(\"Training accuracy\",training_score)\n",
    "        print(\"Training accuracy\",testing_score)\n",
    "        if classifier_name is not None:\n",
    "            self.createConfusionMatrix(y_test,classifier.predict(x_test),classifier_name)\n",
    "            self.testingScore[classifier_name] = testing_score\n",
    "            self.trainingScore[classifier_name] = training_score\n",
    "#         print(\"Confusion Matrix\")\n",
    "#         display(confusion_matrix(y_test,classifier.predict(x_test)))\n",
    "#         print(y_test)\n",
    "#         print(classifier.predict(x_test))\n",
    "        return\n",
    "    def runModel(self,x_train,x_test,y_train,y_test,classifier):\n",
    "        '''\n",
    "            returns training_score,testing_score\n",
    "            Takes processed x and y \n",
    "        '''\n",
    "        classifier.fit(x_train,y_train)\n",
    "        training_score = classifier.score(x_train,y_train)\n",
    "        testing_score = classifier.score(x_test,y_test)\n",
    "        return training_score,testing_score\n",
    "    def kcross(self,classifier,y_value,classifierName = None):\n",
    "        '''\n",
    "            y_value can be 'STANCE' OR 'OPINION' OR 'POL'\n",
    "            prints complete kcross validation scores including oversampling techinques\n",
    "        '''\n",
    "        training_scores,testing_scores = [],[]\n",
    "        training_scores_random,testing_scores_random = [],[]\n",
    "        training_scores_smote,testing_scores_smote = [],[]\n",
    "        X,Y = self.getValue(y_value)\n",
    "        skf = StratifiedKFold(n_splits=5, shuffle=True, random_state=0)\n",
    "        for train_index, test_index in skf.split(X, Y):\n",
    "            X_train, X_test = X[X.index.isin(train_index)].copy(), X[X.index.isin(test_index)].copy()\n",
    "            y_train, y_test = Y[Y.index.isin(train_index)].copy(), Y[Y.index.isin(test_index)].copy()\n",
    "            X_train.reset_index(inplace=True, drop=True)\n",
    "            X_test.reset_index(inplace=True, drop=True)\n",
    "            y_train = y_train.values\n",
    "            y_test = y_test.values\n",
    "            x_train,y_train,x_test,y_test = self.process(X_train,y_train,X_test,y_test)\n",
    "            #### Smote over Sampling #####\n",
    "            x_train_smote, y_train_smote = SMOTE().fit_resample(x_train, y_train)\n",
    "            train_smote_score,test_smote_score = self.runModel(x_train_smote,x_test,y_train_smote,y_test,clone(classifier))\n",
    "            training_scores_smote.append(train_smote_score)\n",
    "            testing_scores_smote.append(test_smote_score)\n",
    "            ### Random Over Sampling #####\n",
    "            x_train_random, y_train_random = RandomOverSampler().fit_resample(x_train, y_train)\n",
    "            train_random_score,test_random_score = self.runModel(x_train_random,x_test,y_train_random,y_test,clone(classifier))\n",
    "            training_scores_random.append(train_random_score)\n",
    "            testing_scores_random.append(test_random_score)\n",
    "            ##### Normal Stuff ###########\n",
    "            train_score,test_score = self.runModel(x_train,x_test,y_train,y_test,clone(classifier))\n",
    "            training_scores.append(train_score)\n",
    "            testing_scores.append(test_score)\n",
    "        print(\"Random sampling scores\")\n",
    "        try:\n",
    "            print(\"AVERAGE TRAINING SCORE\",sum(training_scores_random)/len(training_scores_random))\n",
    "        except:\n",
    "            print(\"some error\")\n",
    "        try:\n",
    "            print(\"AVERAGE TESTING SCORE\",sum(testing_scores_random)/len(testing_scores_random))\n",
    "        except:\n",
    "            print(\"some error\")\n",
    "        print(\"smote sampling scores\")\n",
    "        try:\n",
    "            print(\"AVERAGE TRAINING SCORE\",sum(training_scores_smote)/len(training_scores_smote))\n",
    "        except:\n",
    "            print(\"some error\")\n",
    "        try:\n",
    "            print(\"AVERAGE TESTING SCORE\",sum(testing_scores_smote)/len(testing_scores_smote))\n",
    "        except:\n",
    "            print(\"some error\")\n",
    "        \n",
    "        print(\"Normal scores\")\n",
    "        try:\n",
    "            print(\"AVERAGE TRAINING SCORE\",sum(training_scores)/len(training_scores))\n",
    "        except:\n",
    "            print(\"some error\")\n",
    "        try:\n",
    "            print(\"AVERAGE TESTING SCORE\",sum(testing_scores)/len(testing_scores))\n",
    "        except:\n",
    "            print(\"some error\")\n",
    "        if classifierName is not None:\n",
    "            self.createGraph(training_scores_random,training_scores_smote,training_scores,classifierName,\"Training\",y_value.lower().capitalize())\n",
    "            self.createGraph(testing_scores_random,testing_scores_smote,testing_scores,classifierName,\"Validation\",y_value.lower().capitalize())\n"
   ]
  },
  {
   "cell_type": "code",
   "execution_count": null,
   "metadata": {
    "colab": {},
    "colab_type": "code",
    "id": "nBRA6G1vZhK5"
   },
   "outputs": [],
   "source": [
    "result = Results(X,df)"
   ]
  },
  {
   "cell_type": "code",
   "execution_count": null,
   "metadata": {
    "colab": {
     "base_uri": "https://localhost:8080/",
     "height": 961
    },
    "colab_type": "code",
    "id": "xbXVyTPoKXVE",
    "outputId": "dbbc1650-1307-4efe-ea5b-1a48257f4dfa"
   },
   "outputs": [],
   "source": [
    "result.kcross(GradientBoostingClassifier(learning_rate=0.1),'STANCE',\"Gradient Boosting\")"
   ]
  },
  {
   "cell_type": "code",
   "execution_count": null,
   "metadata": {
    "colab": {
     "base_uri": "https://localhost:8080/",
     "height": 961
    },
    "colab_type": "code",
    "id": "2DjBfc8pK60i",
    "outputId": "a13a6385-037e-4f1f-8849-308c449b713d"
   },
   "outputs": [],
   "source": [
    "result.kcross(GaussianNB(),'STANCE',\"Naive Bayes\")"
   ]
  },
  {
   "cell_type": "code",
   "execution_count": null,
   "metadata": {
    "colab": {
     "base_uri": "https://localhost:8080/",
     "height": 961
    },
    "colab_type": "code",
    "id": "PDnp8fiHPAou",
    "outputId": "12c1ac1e-40f0-42f6-9a15-4f1078c2de53"
   },
   "outputs": [],
   "source": [
    "result.kcross(SVC(C=1),'STANCE',\"Support Vector Machine\")"
   ]
  },
  {
   "cell_type": "code",
   "execution_count": null,
   "metadata": {
    "colab": {
     "base_uri": "https://localhost:8080/",
     "height": 961
    },
    "colab_type": "code",
    "id": "sY1kRIEYPJBM",
    "outputId": "54a0ff1d-22c7-4a06-a7cc-d39c706a8027"
   },
   "outputs": [],
   "source": [
    "# result.kcross(RandomForestClassifier(n_estimators=200,min_samples_leaf=5,min_samples_split=3,random_state=21),'STANCE',\"Random Forest \")"
   ]
  },
  {
   "cell_type": "code",
   "execution_count": null,
   "metadata": {
    "colab": {
     "base_uri": "https://localhost:8080/",
     "height": 961
    },
    "colab_type": "code",
    "id": "Mppi8PAFE5E7",
    "outputId": "e5b812b2-4f40-4e7a-fc3c-ed34705ee132"
   },
   "outputs": [],
   "source": [
    "result.kcross(RandomForestClassifier(n_estimators=90,random_state=30,oob_score=True,max_features='auto'),'STANCE',\"Random Forest\")"
   ]
  },
  {
   "cell_type": "code",
   "execution_count": null,
   "metadata": {
    "colab": {
     "base_uri": "https://localhost:8080/",
     "height": 168
    },
    "colab_type": "code",
    "id": "HLbbZ-jteiWZ",
    "outputId": "1d5cbe13-3b6e-4cf5-99f5-c73228a3586f"
   },
   "outputs": [],
   "source": [
    "result.evaluate(GradientBoostingClassifier(learning_rate=0.1),'STANCE',\"Gradient Boosting\")"
   ]
  },
  {
   "cell_type": "code",
   "execution_count": null,
   "metadata": {
    "colab": {
     "base_uri": "https://localhost:8080/",
     "height": 168
    },
    "colab_type": "code",
    "id": "h2V0ZmiAeiWb",
    "outputId": "a3078f42-fc3e-4e31-9195-284f94920944"
   },
   "outputs": [],
   "source": [
    "result.evaluate(GaussianNB(),'STANCE',\"Naive Bayes\")"
   ]
  },
  {
   "cell_type": "code",
   "execution_count": null,
   "metadata": {
    "colab": {
     "base_uri": "https://localhost:8080/",
     "height": 168
    },
    "colab_type": "code",
    "id": "2R5k9IaAeiWe",
    "outputId": "e65fb43f-647f-473a-b452-56d0d252f544"
   },
   "outputs": [],
   "source": [
    "result.evaluate(SVC(C=1),'STANCE',\"Support Vector Machine\")"
   ]
  },
  {
   "cell_type": "code",
   "execution_count": null,
   "metadata": {
    "colab": {
     "base_uri": "https://localhost:8080/",
     "height": 168
    },
    "colab_type": "code",
    "id": "YMbaBbjgeiWh",
    "outputId": "212ff9b1-7ce7-495f-a365-22d84d44ee62"
   },
   "outputs": [],
   "source": [
    "# result.evaluate(RandomForestClassifier(n_estimators=200,min_samples_leaf=5,min_samples_split=3,random_state=21),'STANCE',\"Random Forest \")"
   ]
  },
  {
   "cell_type": "code",
   "execution_count": null,
   "metadata": {
    "colab": {
     "base_uri": "https://localhost:8080/",
     "height": 168
    },
    "colab_type": "code",
    "id": "SDEYaRz1eiWo",
    "outputId": "7a2dd83d-552e-47cb-86b5-616f45aadcb6"
   },
   "outputs": [],
   "source": [
    "result.evaluate(RandomForestClassifier(n_estimators=90,random_state=30,oob_score=True,max_features='auto'),'STANCE',\"Random Forest\")"
   ]
  },
  {
   "cell_type": "code",
   "execution_count": null,
   "metadata": {
    "colab": {},
    "colab_type": "code",
    "id": "iYvYKXS6eiWt"
   },
   "outputs": [],
   "source": [
    "result.compareModels()"
   ]
  },
  {
   "cell_type": "code",
   "execution_count": null,
   "metadata": {},
   "outputs": [],
   "source": [
    "import json\n",
    "with open(\"graphs/mappings.json\",\"w\") as f:\n",
    "    json.dump(result.mapping,f)"
   ]
  }
 ],
 "metadata": {
  "colab": {
   "collapsed_sections": [],
   "name": "FinalNotebook.ipynb",
   "provenance": []
  },
  "kernelspec": {
   "display_name": "Python 3",
   "language": "python",
   "name": "python3"
  },
  "language_info": {
   "codemirror_mode": {
    "name": "ipython",
    "version": 3
   },
   "file_extension": ".py",
   "mimetype": "text/x-python",
   "name": "python",
   "nbconvert_exporter": "python",
   "pygments_lexer": "ipython3",
   "version": "3.7.7"
  }
 },
 "nbformat": 4,
 "nbformat_minor": 1
}
