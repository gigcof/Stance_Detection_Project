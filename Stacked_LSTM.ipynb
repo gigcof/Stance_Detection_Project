{
 "cells": [
  {
   "cell_type": "code",
   "execution_count": null,
   "metadata": {
    "colab": {
     "base_uri": "https://localhost:8080/",
     "height": 34
    },
    "colab_type": "code",
    "id": "CGbOHUB_glvN",
    "outputId": "a1775c60-4069-41f7-af05-cf67b20b87b0"
   },
   "outputs": [],
   "source": [
    "import pandas as pd\n",
    "import numpy as np\n",
    "from keras.models import Sequential\n",
    "from keras.layers import *\n",
    "from keras.callbacks import EarlyStopping\n",
    "from keras.callbacks import ModelCheckpoint"
   ]
  },
  {
   "cell_type": "code",
   "execution_count": null,
   "metadata": {
    "colab": {},
    "colab_type": "code",
    "id": "y1J13UjCYWuc"
   },
   "outputs": [],
   "source": [
    "train = pd.read_csv(\"FinalDataset.csv\")"
   ]
  },
  {
   "cell_type": "code",
   "execution_count": null,
   "metadata": {
    "colab": {
     "base_uri": "https://localhost:8080/",
     "height": 816
    },
    "colab_type": "code",
    "id": "HJtSlXTDjgg4",
    "outputId": "2a70c317-cee7-453d-b4f1-5f364293bd29"
   },
   "outputs": [],
   "source": [
    "train.info()"
   ]
  },
  {
   "cell_type": "code",
   "execution_count": null,
   "metadata": {
    "colab": {},
    "colab_type": "code",
    "id": "IkEv4Uzijk27"
   },
   "outputs": [],
   "source": [
    "train = train.drop(columns=['Unnamed: 0', 'hashtags', 'mentions', 'NOUN', 'PROPN',\n",
    "       'PRON', 'ADJ', 'DET', 'ADP', 'VERB', 'ADV', 'CONJ', 'INTJ', 'AUX',\n",
    "       'SCONJ', 'finalCleanText', 'COUNT_NOUN', 'COUNT_PROPN', 'COUNT_PRON',\n",
    "       'COUNT_ADJ', 'COUNT_DET', 'COUNT_ADP', 'COUNT_VERB', 'COUNT_ADV',\n",
    "       'COUNT_CONJ', 'COUNT_INTJ', 'COUNT_AUX', 'COUNT_SCONJ',\n",
    "       'Positive_Score', 'Negative_Score', 'Neutral_Score', 'Compound Score'])"
   ]
  },
  {
   "cell_type": "code",
   "execution_count": null,
   "metadata": {
    "colab": {
     "base_uri": "https://localhost:8080/",
     "height": 272
    },
    "colab_type": "code",
    "id": "EpvsdV1PjxWg",
    "outputId": "609da6aa-443c-4527-def4-8d2fdb8ed0e1"
   },
   "outputs": [],
   "source": [
    "train.info()"
   ]
  },
  {
   "cell_type": "code",
   "execution_count": null,
   "metadata": {
    "colab": {},
    "colab_type": "code",
    "id": "YZIDWC8ZlXmj"
   },
   "outputs": [],
   "source": [
    "X_ = train['cleanTextNoPun']\n",
    "Xn = []\n",
    "for x in X_:\n",
    "    Xn.append(str(x))\n",
    "train[\"cleanTextStr\"] = Xn\n",
    "X = train[\"cleanTextStr\"]\n",
    "Y0 = train['STANCE']\n",
    "Y1 = train['OPINION']\n",
    "Y2 = train['POL']"
   ]
  },
  {
   "cell_type": "code",
   "execution_count": null,
   "metadata": {
    "colab": {},
    "colab_type": "code",
    "id": "jo6YGL5bllyR"
   },
   "outputs": [],
   "source": [
    "from sklearn.model_selection import train_test_split"
   ]
  },
  {
   "cell_type": "code",
   "execution_count": null,
   "metadata": {
    "colab": {},
    "colab_type": "code",
    "id": "hWrZ6HQrlr1E"
   },
   "outputs": [],
   "source": [
    "X0_train, X0_test, y0_train, y0_test = train_test_split(X, Y0, test_size=0.2)\n",
    "X1_train, X1_test, y1_train, y1_test = train_test_split(X, Y1, test_size=0.2)\n",
    "X2_train, X2_test, y2_train, y2_test = train_test_split(X, Y2, test_size=0.2)"
   ]
  },
  {
   "cell_type": "code",
   "execution_count": null,
   "metadata": {
    "colab": {
     "base_uri": "https://localhost:8080/",
     "height": 51
    },
    "colab_type": "code",
    "id": "RdoawywilzXw",
    "outputId": "20bcb8ec-0c47-43f4-c560-1b6ebbf458d0"
   },
   "outputs": [],
   "source": [
    "print(X0_train.shape, y0_train.shape)\n",
    "print(X0_test.shape, y0_test.shape)"
   ]
  },
  {
   "cell_type": "code",
   "execution_count": null,
   "metadata": {
    "colab": {},
    "colab_type": "code",
    "id": "O0AENCSlmFTl"
   },
   "outputs": [],
   "source": [
    "# !wget http://nlp.stanford.edu/data/glove.twitter.27B.zip"
   ]
  },
  {
   "cell_type": "code",
   "execution_count": null,
   "metadata": {
    "colab": {},
    "colab_type": "code",
    "id": "5xRGWW6Mmdba"
   },
   "outputs": [],
   "source": [
    "# !ls"
   ]
  },
  {
   "cell_type": "code",
   "execution_count": null,
   "metadata": {
    "colab": {
     "base_uri": "https://localhost:8080/",
     "height": 119
    },
    "colab_type": "code",
    "id": "vrxvoVmJpMtz",
    "outputId": "4931e385-b049-4c3b-9b70-9c4a8c2803c9"
   },
   "outputs": [],
   "source": [
    "# !unzip glove.twitter.27B.zip"
   ]
  },
  {
   "cell_type": "code",
   "execution_count": null,
   "metadata": {
    "colab": {},
    "colab_type": "code",
    "id": "VZ9Cks4ppR5l"
   },
   "outputs": [],
   "source": [
    "path = \"glove.twitter.27B.200d.txt\"\n",
    "f = open(path, encoding ='utf-8')"
   ]
  },
  {
   "cell_type": "code",
   "execution_count": null,
   "metadata": {
    "colab": {},
    "colab_type": "code",
    "id": "i9-suH7RqNzE"
   },
   "outputs": [],
   "source": [
    "embeddings_index = {}\n",
    "cnt = 0\n",
    "for line in f:\n",
    "    values = line.split()\n",
    "    word = values[0]\n",
    "    coefs = np.asarray(values[1:], dtype='float')\n",
    "    embeddings_index[word] = coefs\n",
    "f.close()"
   ]
  },
  {
   "cell_type": "code",
   "execution_count": null,
   "metadata": {
    "colab": {},
    "colab_type": "code",
    "id": "GNtpm_tRqQia"
   },
   "outputs": [],
   "source": [
    "def embedding_output(X):\n",
    "    maxLen = 75\n",
    "    emb_dim = 50\n",
    "    embedding_out = np.zeros((X.shape[0], maxLen, emb_dim))\n",
    "\n",
    "    for ix in X:\n",
    "        ic = 0\n",
    "        ix = ix.split()\n",
    "    for ij in range(len(ix)):\n",
    "        try:\n",
    "            embedding_out[ic][ij] = embeddings_index[X[ic][ij].lower()]\n",
    "        except:\n",
    "            embedding_out[ic][ij] = np.zeros((50,))\n",
    "        ic+=1\n",
    "    return embedding_out"
   ]
  },
  {
   "cell_type": "code",
   "execution_count": null,
   "metadata": {
    "colab": {},
    "colab_type": "code",
    "id": "MzC-rxNDqvom"
   },
   "outputs": [],
   "source": [
    "embedding_matrix_train0 = embedding_output(X0_train)\n",
    "embedding_matrix_test0 = embedding_output(X0_test)\n",
    "embedding_matrix_train1 = embedding_output(X1_train)\n",
    "embedding_matrix_test1 = embedding_output(X1_test)\n",
    "embedding_matrix_train2 = embedding_output(X2_train)\n",
    "embedding_matrix_test2 = embedding_output(X2_test)"
   ]
  },
  {
   "cell_type": "code",
   "execution_count": null,
   "metadata": {
    "colab": {
     "base_uri": "https://localhost:8080/",
     "height": 119
    },
    "colab_type": "code",
    "id": "VFAWk0BNq0GC",
    "outputId": "d9c33c09-8880-4538-9847-883f876e2732"
   },
   "outputs": [],
   "source": [
    "print(embedding_matrix_train0.shape)\n",
    "print(embedding_matrix_test0.shape)\n",
    "print(embedding_matrix_train1.shape)\n",
    "print(embedding_matrix_test1.shape)\n",
    "print(embedding_matrix_train2.shape)\n",
    "print(embedding_matrix_test2.shape)"
   ]
  },
  {
   "cell_type": "code",
   "execution_count": null,
   "metadata": {
    "colab": {
     "base_uri": "https://localhost:8080/",
     "height": 357
    },
    "colab_type": "code",
    "id": "eDnYKptQxgkM",
    "outputId": "c9e86e65-5168-4bd8-bfbe-ed782da6502b"
   },
   "outputs": [],
   "source": [
    "model0 = Sequential()\n",
    "model0.add(LSTM(32, input_shape=(75,50), return_sequences=True))\n",
    "model0.add(Dropout(0.5))\n",
    "model0.add(LSTM(32, return_sequences=False))\n",
    "model0.add(Dropout(0.5))\n",
    "model0.add(Dense(3))\n",
    "model0.add(Activation('softmax'))\n",
    "model0.compile(loss = 'categorical_crossentropy', optimizer='adam', metrics=['accuracy'])\n",
    "model0.summary()"
   ]
  },
  {
   "cell_type": "code",
   "execution_count": null,
   "metadata": {
    "colab": {},
    "colab_type": "code",
    "id": "wVXDOYIzxjwq"
   },
   "outputs": [],
   "source": [
    "from keras.utils import to_categorical\n",
    "y0_train = to_categorical(y0_train,num_classes=3)\n",
    "y0_test = to_categorical(y0_test,num_classes=3)"
   ]
  },
  {
   "cell_type": "code",
   "execution_count": null,
   "metadata": {
    "colab": {
     "base_uri": "https://localhost:8080/",
     "height": 68
    },
    "colab_type": "code",
    "id": "0pTtsZPoxn4x",
    "outputId": "1b8f83de-eec3-4bb5-c961-364518439ae5"
   },
   "outputs": [],
   "source": [
    "hist = model0.fit(embedding_matrix_train0, y0_train, epochs=10, batch_size=32, shuffle=True, validation_split=0.15)"
   ]
  },
  {
   "cell_type": "code",
   "execution_count": null,
   "metadata": {
    "colab": {},
    "colab_type": "code",
    "id": "U6MJCLbGxqin"
   },
   "outputs": [],
   "source": [
    "model0.evaluate(embedding_matrix_test0, y0_test)"
   ]
  },
  {
   "cell_type": "code",
   "execution_count": null,
   "metadata": {
    "colab": {},
    "colab_type": "code",
    "id": "Ytm5r0oi483n"
   },
   "outputs": [],
   "source": [
    "############## With label smoothing ######################"
   ]
  },
  {
   "cell_type": "code",
   "execution_count": null,
   "metadata": {
    "colab": {},
    "colab_type": "code",
    "id": "Atad2yKb5NQC"
   },
   "outputs": [],
   "source": [
    "def smooth_labels(labels, factor=0.1):\n",
    "\t# smooth the labels\n",
    "\tlabels *= (1 - factor)\n",
    "\tlabels += (factor / labels.shape[1])\n",
    "\t# returned the smoothed labels\n",
    "\treturn labels"
   ]
  },
  {
   "cell_type": "code",
   "execution_count": null,
   "metadata": {
    "colab": {},
    "colab_type": "code",
    "id": "12o9_VXWtVim"
   },
   "outputs": [],
   "source": [
    "y_train_hot_smooth = smooth_labels(y0_train)\n",
    "y_test_hot_smooth = smooth_labels(y0_test)"
   ]
  },
  {
   "cell_type": "code",
   "execution_count": null,
   "metadata": {
    "colab": {},
    "colab_type": "code",
    "id": "eVIY60hT5HRH"
   },
   "outputs": [],
   "source": [
    "from keras.losses import CategoricalCrossentropy\n",
    "model0 = Sequential()\n",
    "model0.add(LSTM(64, input_shape=(75,50), return_sequences=True))\n",
    "model0.add(Dropout(0.5))\n",
    "model0.add(LSTM(64, return_sequences=False))\n",
    "model0.add(Dropout(0.5))\n",
    "model0.add(Dense(3))\n",
    "model0.add(Activation('softmax'))\n",
    "model0.compile(loss = CategoricalCrossentropy(label_smoothing = 0.1), optimizer='adam', metrics=['accuracy'])\n",
    "model0.summary()"
   ]
  },
  {
   "cell_type": "code",
   "execution_count": null,
   "metadata": {
    "colab": {},
    "colab_type": "code",
    "id": "DhXcdvIO5HRR"
   },
   "outputs": [],
   "source": [
    "hist = model0.fit(embedding_matrix_train0, y_train_hot_smooth, epochs=20, batch_size=32, shuffle=True, validation_split=0.1)"
   ]
  },
  {
   "cell_type": "code",
   "execution_count": null,
   "metadata": {
    "colab": {},
    "colab_type": "code",
    "id": "6y1aBBHY5HRT"
   },
   "outputs": [],
   "source": [
    "model0.evaluate(embedding_matrix_test0, y0_test)"
   ]
  },
  {
   "cell_type": "code",
   "execution_count": null,
   "metadata": {
    "colab": {},
    "colab_type": "code",
    "id": "jAjt-zTb6Ahi"
   },
   "outputs": [],
   "source": [
    "model0.evaluate(embedding_matrix_test0, y_test_hot_smooth)"
   ]
  },
  {
   "cell_type": "code",
   "execution_count": null,
   "metadata": {
    "colab": {},
    "colab_type": "code",
    "id": "u90pgrQJxhyV"
   },
   "outputs": [],
   "source": []
  }
 ],
 "metadata": {
  "accelerator": "GPU",
  "colab": {
   "collapsed_sections": [],
   "name": "New_LSTM.ipynb",
   "provenance": []
  },
  "kernelspec": {
   "display_name": "Python 3",
   "language": "python",
   "name": "python3"
  },
  "language_info": {
   "codemirror_mode": {
    "name": "ipython",
    "version": 3
   },
   "file_extension": ".py",
   "mimetype": "text/x-python",
   "name": "python",
   "nbconvert_exporter": "python",
   "pygments_lexer": "ipython3",
   "version": "3.7.7"
  }
 },
 "nbformat": 4,
 "nbformat_minor": 1
}
