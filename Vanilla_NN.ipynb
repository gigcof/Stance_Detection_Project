{
 "cells": [
  {
   "cell_type": "code",
   "execution_count": null,
   "metadata": {
    "colab": {
     "base_uri": "https://localhost:8080/",
     "height": 70
    },
    "colab_type": "code",
    "executionInfo": {
     "elapsed": 3487,
     "status": "ok",
     "timestamp": 1590049778257,
     "user": {
      "displayName": "Shivam Aggarwal",
      "photoUrl": "",
      "userId": "09581223866808255815"
     },
     "user_tz": -330
    },
    "id": "4OfwaT-8hLmb",
    "outputId": "6e6a3697-c936-4b29-f532-00ea5317485a"
   },
   "outputs": [],
   "source": [
    "from sklearn.neighbors import KNeighborsClassifier\n",
    "from sklearn.model_selection import train_test_split\n",
    "from sklearn.ensemble import RandomForestClassifier\n",
    "from sklearn.metrics import confusion_matrix\n",
    "from sklearn.tree import DecisionTreeClassifier\n",
    "from sklearn.metrics import f1_score\n",
    "from sklearn.linear_model import LogisticRegression\n",
    "from sklearn.preprocessing import StandardScaler\n",
    "from sklearn.naive_bayes import GaussianNB\n",
    "from sklearn.svm import SVC\n",
    "import pandas as pd\n",
    "import numpy as np\n",
    "import sklearn.metrics as metrics\n",
    "from sklearn import tree\n",
    "from sklearn.feature_extraction.text import TfidfVectorizer\n",
    "from sklearn.metrics import accuracy_score\n",
    "from collections import  Counter\n",
    "import matplotlib.pyplot as plt\n",
    "import seaborn as sns"
   ]
  },
  {
   "cell_type": "code",
   "execution_count": null,
   "metadata": {
    "colab": {},
    "colab_type": "code",
    "id": "VpJAfYl-h9-V"
   },
   "outputs": [],
   "source": [
    "df = pd.read_csv(\"FinalDataset.csv\")"
   ]
  },
  {
   "cell_type": "code",
   "execution_count": null,
   "metadata": {
    "colab": {
     "base_uri": "https://localhost:8080/",
     "height": 602
    },
    "colab_type": "code",
    "executionInfo": {
     "elapsed": 2604,
     "status": "ok",
     "timestamp": 1590049784696,
     "user": {
      "displayName": "Shivam Aggarwal",
      "photoUrl": "",
      "userId": "09581223866808255815"
     },
     "user_tz": -330
    },
    "id": "-4N2OfQK51Dh",
    "outputId": "bb021b0d-925c-4879-ae5d-64ef17c6a8b7"
   },
   "outputs": [],
   "source": [
    "df.head()"
   ]
  },
  {
   "cell_type": "code",
   "execution_count": null,
   "metadata": {
    "colab": {},
    "colab_type": "code",
    "id": "UOdP4Yia9evS"
   },
   "outputs": [],
   "source": [
    "cols = list(df.columns)\n",
    "index = cols.index(\"finalCleanText\")"
   ]
  },
  {
   "cell_type": "code",
   "execution_count": null,
   "metadata": {
    "colab": {
     "base_uri": "https://localhost:8080/",
     "height": 319
    },
    "colab_type": "code",
    "executionInfo": {
     "elapsed": 1147,
     "status": "ok",
     "timestamp": 1590049785269,
     "user": {
      "displayName": "Shivam Aggarwal",
      "photoUrl": "",
      "userId": "09581223866808255815"
     },
     "user_tz": -330
    },
    "id": "ZufQiy3W8sgI",
    "outputId": "fde07ae0-ee94-4c97-fad0-bc2487ba5932"
   },
   "outputs": [],
   "source": [
    "nanIndex = []\n",
    "nanIndex.extend(list(df[df[\"STANCE\"].isna()].index))\n",
    "nanIndex.extend(list(df[df[\"OPINION\"].isna()].index))\n",
    "nanIndex.extend(list(df[df[\"POL\"].isna()].index))\n",
    "for i in range(index,len(cols)):\n",
    "    print(\"checking\",cols[i])\n",
    "    nanIndex.extend(list(df[df[cols[i]].isna()].index))\n",
    "nanIndex = set(nanIndex)\n",
    "print(\"Total nan value found\",len(nanIndex))"
   ]
  },
  {
   "cell_type": "code",
   "execution_count": null,
   "metadata": {
    "colab": {},
    "colab_type": "code",
    "id": "Jvqn8iVZ9BmN"
   },
   "outputs": [],
   "source": [
    "df.drop(index=nanIndex,inplace=True)\n",
    "df.reset_index(inplace=True,drop=True)"
   ]
  },
  {
   "cell_type": "code",
   "execution_count": null,
   "metadata": {
    "colab": {},
    "colab_type": "code",
    "id": "-sJhsM2Ui6IB"
   },
   "outputs": [],
   "source": [
    "X  = df.iloc[:,index:].copy()\n",
    "Y = pd.DataFrame() \n",
    "X[\"cleaned tweets\"] = df[\"finalCleanText\"].copy()\n",
    "del X[\"finalCleanText\"]\n",
    "Y[\"STANCE\"] = df[\"STANCE\"].copy()"
   ]
  },
  {
   "cell_type": "code",
   "execution_count": null,
   "metadata": {
    "colab": {
     "base_uri": "https://localhost:8080/",
     "height": 602
    },
    "colab_type": "code",
    "executionInfo": {
     "elapsed": 584,
     "status": "ok",
     "timestamp": 1590049789906,
     "user": {
      "displayName": "Shivam Aggarwal",
      "photoUrl": "",
      "userId": "09581223866808255815"
     },
     "user_tz": -330
    },
    "id": "It1tlvZG6ueW",
    "outputId": "7c1696e8-09b5-4676-e058-ff663fff3825"
   },
   "outputs": [],
   "source": [
    "X.head()"
   ]
  },
  {
   "cell_type": "code",
   "execution_count": null,
   "metadata": {
    "colab": {
     "base_uri": "https://localhost:8080/",
     "height": 195
    },
    "colab_type": "code",
    "executionInfo": {
     "elapsed": 723,
     "status": "ok",
     "timestamp": 1590049791070,
     "user": {
      "displayName": "Shivam Aggarwal",
      "photoUrl": "",
      "userId": "09581223866808255815"
     },
     "user_tz": -330
    },
    "id": "8fmW-Ovz6wMg",
    "outputId": "6c868fd0-b63a-4dd8-f90b-b85a77abf298"
   },
   "outputs": [],
   "source": [
    "Y.head()"
   ]
  },
  {
   "cell_type": "code",
   "execution_count": null,
   "metadata": {
    "colab": {},
    "colab_type": "code",
    "id": "K0dyGrFEi8Bp"
   },
   "outputs": [],
   "source": [
    "X_train, X_test, y_train, y_test = train_test_split(X,Y.values, test_size=0.25, random_state = 20)\n",
    "                                                    #,stratify=Y.values)"
   ]
  },
  {
   "cell_type": "code",
   "execution_count": null,
   "metadata": {
    "colab": {
     "base_uri": "https://localhost:8080/",
     "height": 34
    },
    "colab_type": "code",
    "executionInfo": {
     "elapsed": 759,
     "status": "ok",
     "timestamp": 1590049793320,
     "user": {
      "displayName": "Shivam Aggarwal",
      "photoUrl": "",
      "userId": "09581223866808255815"
     },
     "user_tz": -330
    },
    "id": "LyTErv5Ak3_B",
    "outputId": "fe84de86-4edb-435e-8bda-9ed83d630b41"
   },
   "outputs": [],
   "source": [
    "Counter(list(y_train.reshape(-1)))"
   ]
  },
  {
   "cell_type": "code",
   "execution_count": null,
   "metadata": {
    "colab": {
     "base_uri": "https://localhost:8080/",
     "height": 34
    },
    "colab_type": "code",
    "executionInfo": {
     "elapsed": 1369,
     "status": "ok",
     "timestamp": 1590049794842,
     "user": {
      "displayName": "Shivam Aggarwal",
      "photoUrl": "",
      "userId": "09581223866808255815"
     },
     "user_tz": -330
    },
    "id": "7UlLtlgllS0e",
    "outputId": "ba6b10f5-2b47-4a7a-82c7-a4b04856f4a6"
   },
   "outputs": [],
   "source": [
    "Counter(df[\"STANCE\"])"
   ]
  },
  {
   "cell_type": "code",
   "execution_count": null,
   "metadata": {
    "colab": {
     "base_uri": "https://localhost:8080/",
     "height": 34
    },
    "colab_type": "code",
    "executionInfo": {
     "elapsed": 886,
     "status": "ok",
     "timestamp": 1590049795364,
     "user": {
      "displayName": "Shivam Aggarwal",
      "photoUrl": "",
      "userId": "09581223866808255815"
     },
     "user_tz": -330
    },
    "id": "eg3qR17BlWnk",
    "outputId": "3a059edc-7e38-4c27-95da-e777eaa656e7"
   },
   "outputs": [],
   "source": [
    "Counter(list(y_test.reshape(-1)))"
   ]
  },
  {
   "cell_type": "code",
   "execution_count": null,
   "metadata": {
    "colab": {},
    "colab_type": "code",
    "id": "Q6Iy6a8Y7Kss"
   },
   "outputs": [],
   "source": [
    "X_train.reset_index(inplace=True,drop=True)\n",
    "X_test.reset_index(inplace=True,drop=True)"
   ]
  },
  {
   "cell_type": "code",
   "execution_count": null,
   "metadata": {
    "colab": {
     "base_uri": "https://localhost:8080/",
     "height": 34
    },
    "colab_type": "code",
    "executionInfo": {
     "elapsed": 671,
     "status": "ok",
     "timestamp": 1590049797780,
     "user": {
      "displayName": "Shivam Aggarwal",
      "photoUrl": "",
      "userId": "09581223866808255815"
     },
     "user_tz": -330
    },
    "id": "XflW9Nnv7pHv",
    "outputId": "8ba67e25-90fe-4d63-9bd4-7ef3e7c419a4"
   },
   "outputs": [],
   "source": [
    "type(list(X_train['cleaned tweets'].values)[0])"
   ]
  },
  {
   "cell_type": "code",
   "execution_count": null,
   "metadata": {
    "colab": {},
    "colab_type": "code",
    "id": "L9VcIMGR6-Cq"
   },
   "outputs": [],
   "source": [
    "# x_train  = [str(text[0]) for text in X_train]\n",
    "# x_test  = [str(text[0]) for text in X_test]"
   ]
  },
  {
   "cell_type": "code",
   "execution_count": null,
   "metadata": {
    "colab": {},
    "colab_type": "code",
    "id": "8E3nATJplupo"
   },
   "outputs": [],
   "source": [
    "tfidf = TfidfVectorizer(use_idf=True,min_df=0.01,max_df=0.9)\n",
    "x_train = tfidf.fit_transform(list(X_train['cleaned tweets'].values))\n",
    "x_test = tfidf.transform(list(X_test['cleaned tweets'].values))"
   ]
  },
  {
   "cell_type": "code",
   "execution_count": null,
   "metadata": {
    "colab": {},
    "colab_type": "code",
    "id": "0xbMrHKOniHH"
   },
   "outputs": [],
   "source": [
    "x_train = x_train.toarray()\n",
    "x_test = x_test.toarray()"
   ]
  },
  {
   "cell_type": "code",
   "execution_count": null,
   "metadata": {
    "colab": {},
    "colab_type": "code",
    "id": "b3RDRl6S_AHT"
   },
   "outputs": [],
   "source": [
    "x_train = pd.DataFrame(data=x_train,columns=list(tfidf.get_feature_names()))\n",
    "x_test = pd.DataFrame(data=x_test,columns=list(tfidf.get_feature_names()))"
   ]
  },
  {
   "cell_type": "code",
   "execution_count": null,
   "metadata": {
    "colab": {},
    "colab_type": "code",
    "id": "WBdZvmfv_hsH"
   },
   "outputs": [],
   "source": [
    "del X_train['cleaned tweets']\n",
    "del X_test['cleaned tweets']"
   ]
  },
  {
   "cell_type": "code",
   "execution_count": null,
   "metadata": {
    "colab": {},
    "colab_type": "code",
    "id": "W8nESxtHAMIs"
   },
   "outputs": [],
   "source": [
    "x_train = pd.concat([X_train,x_train],axis=1)\n",
    "x_test = pd.concat([X_test,x_test],axis=1)"
   ]
  },
  {
   "cell_type": "code",
   "execution_count": null,
   "metadata": {
    "colab": {
     "base_uri": "https://localhost:8080/",
     "height": 34
    },
    "colab_type": "code",
    "executionInfo": {
     "elapsed": 3947,
     "status": "ok",
     "timestamp": 1590049810153,
     "user": {
      "displayName": "Shivam Aggarwal",
      "photoUrl": "",
      "userId": "09581223866808255815"
     },
     "user_tz": -330
    },
    "id": "hpKoJl5zConP",
    "outputId": "fd937257-7184-41e8-d678-0f5ed37d5b4c"
   },
   "outputs": [],
   "source": [
    "assert(len(list(x_train.columns)) == len(set(list(x_train.columns))))\n",
    "print(\"This is to check all x_train columns are unique\")"
   ]
  },
  {
   "cell_type": "code",
   "execution_count": null,
   "metadata": {
    "colab": {
     "base_uri": "https://localhost:8080/",
     "height": 218
    },
    "colab_type": "code",
    "executionInfo": {
     "elapsed": 3194,
     "status": "ok",
     "timestamp": 1590049810154,
     "user": {
      "displayName": "Shivam Aggarwal",
      "photoUrl": "",
      "userId": "09581223866808255815"
     },
     "user_tz": -330
    },
    "id": "dB9akiIjAsqq",
    "outputId": "624210dc-f815-45d5-8380-b86f5fb9e7f4"
   },
   "outputs": [],
   "source": [
    "assert(list(x_train.columns) == list(x_test.columns))\n",
    "column = list(x_train.columns)\n",
    "index = column.index('Positive_Score')\n",
    "column[:index]"
   ]
  },
  {
   "cell_type": "code",
   "execution_count": null,
   "metadata": {
    "colab": {},
    "colab_type": "code",
    "id": "7bddbjaKBcoX"
   },
   "outputs": [],
   "source": [
    "from sklearn import preprocessing\n",
    "for feature in column[:index]:\n",
    "    scaler = preprocessing.MinMaxScaler()\n",
    "    scaler.fit(x_train[feature].values.reshape((-1,1)))\n",
    "    x_train[feature] = scaler.transform(x_train[feature].values.reshape((-1,1)))\n",
    "    x_test[feature] = scaler.transform(x_test[feature].values.reshape((-1,1)))"
   ]
  },
  {
   "cell_type": "code",
   "execution_count": null,
   "metadata": {
    "colab": {},
    "colab_type": "code",
    "id": "LdIdXvnm6elo"
   },
   "outputs": [],
   "source": [
    "def smooth_labels(labels, factor=0.1):\n",
    "\t# smooth the labels\n",
    "\tlabels *= (1 - factor)\n",
    "\tlabels += (factor / labels.shape[1])\n",
    "\t# returned the smoothed labels\n",
    "\treturn labels"
   ]
  },
  {
   "cell_type": "code",
   "execution_count": null,
   "metadata": {
    "colab": {
     "base_uri": "https://localhost:8080/",
     "height": 34
    },
    "colab_type": "code",
    "executionInfo": {
     "elapsed": 2613,
     "status": "ok",
     "timestamp": 1590049815676,
     "user": {
      "displayName": "Shivam Aggarwal",
      "photoUrl": "",
      "userId": "09581223866808255815"
     },
     "user_tz": -330
    },
    "id": "7XGuJKF2dY7R",
    "outputId": "bddfa924-e5f1-465a-c9a8-5551b04897a4"
   },
   "outputs": [],
   "source": [
    "from keras.models import Sequential\n",
    "from keras.layers import Dense\n",
    "import keras"
   ]
  },
  {
   "cell_type": "code",
   "execution_count": null,
   "metadata": {
    "colab": {},
    "colab_type": "code",
    "id": "KxPsYkmQeVIQ"
   },
   "outputs": [],
   "source": [
    "inputSize = len(list(x_train.columns))"
   ]
  },
  {
   "cell_type": "code",
   "execution_count": null,
   "metadata": {
    "colab": {},
    "colab_type": "code",
    "id": "cUdljABbC_Sz"
   },
   "outputs": [],
   "source": [
    "x_train = x_train.values\n",
    "x_test = x_test.values"
   ]
  },
  {
   "cell_type": "code",
   "execution_count": null,
   "metadata": {
    "colab": {},
    "colab_type": "code",
    "id": "0E-N4ghmdQuE"
   },
   "outputs": [],
   "source": [
    "model = Sequential()\n",
    "model.add((Dense(units=64, activation='relu', input_dim=inputSize)))\n",
    "model.add((Dense(units=32, activation='relu')))\n",
    "model.add((Dense(units=3, activation='softmax')))"
   ]
  },
  {
   "cell_type": "code",
   "execution_count": null,
   "metadata": {
    "colab": {},
    "colab_type": "code",
    "id": "-oNEqs_Cf7u2"
   },
   "outputs": [],
   "source": [
    "def oneHot(y_inp):\n",
    "    y = np.zeros((len(y_inp),3))\n",
    "    for i in range(len(y_inp)):\n",
    "        y[i][int(y_inp[i][0])] = 1\n",
    "    return y"
   ]
  },
  {
   "cell_type": "code",
   "execution_count": null,
   "metadata": {
    "colab": {},
    "colab_type": "code",
    "id": "HuF9vQK1gdtz"
   },
   "outputs": [],
   "source": [
    "y_train_hot = oneHot(y_train)\n",
    "y_test_hot = oneHot(y_test)"
   ]
  },
  {
   "cell_type": "markdown",
   "metadata": {
    "colab_type": "text",
    "id": "Vmo2VmiB2PHt"
   },
   "source": []
  },
  {
   "cell_type": "code",
   "execution_count": null,
   "metadata": {
    "colab": {},
    "colab_type": "code",
    "id": "UV9qf1HzP_xO"
   },
   "outputs": [],
   "source": [
    "def oneHotToCategorical(y_hot):\n",
    "    r,c = y_hot.shape\n",
    "    y = [y_hot[i].argmax() for i in range(r)]\n",
    "    return y"
   ]
  },
  {
   "cell_type": "code",
   "execution_count": null,
   "metadata": {
    "colab": {},
    "colab_type": "code",
    "id": "47ZY9kEqRkZU"
   },
   "outputs": [],
   "source": [
    "def createConfusionMatrix(y_true_c,y_pred_c,classifier_name):\n",
    "    mapping = {2:\"Anti Govt\",0:\"Neutral\",1:\"Pro Govt\"}\n",
    "    y_true_c = oneHotToCategorical(y_true_c)\n",
    "    y_pred_c = oneHotToCategorical(y_pred_c)\n",
    "    y_true = [mapping[i] for i in y_true_c]\n",
    "    y_pred = [mapping[i] for i in y_pred_c]\n",
    "    labels = [mapping[key] for key in mapping]\n",
    "    cm = confusion_matrix(y_true, y_pred, labels=labels)\n",
    "    title = \"Confusion Matrix of \"+ classifier_name\n",
    "    fig = plt.figure()\n",
    "    ax= plt.subplot()\n",
    "    fig.add_subplot(ax)\n",
    "    sns.heatmap(cm, annot=True, ax = ax);\n",
    "    ax.set_xlabel('Predicted labels');ax.set_ylabel('True labels');\n",
    "    ax.set_title(title);\n",
    "    ax.xaxis.set_ticklabels(labels); ax.yaxis.set_ticklabels(labels);\n",
    "    fig.savefig(\"graphs/\"+title+\".png\",bbox_inches='tight')\n",
    "    return"
   ]
  },
  {
   "cell_type": "code",
   "execution_count": null,
   "metadata": {
    "colab": {},
    "colab_type": "code",
    "id": "zrzrmLq0fGJ4"
   },
   "outputs": [],
   "source": [
    "model.compile(loss='categorical_crossentropy',metrics=['accuracy'],optimizer = keras.optimizers.adam(lr=0.001))"
   ]
  },
  {
   "cell_type": "code",
   "execution_count": null,
   "metadata": {
    "colab": {
     "base_uri": "https://localhost:8080/",
     "height": 235
    },
    "colab_type": "code",
    "executionInfo": {
     "elapsed": 5670,
     "status": "ok",
     "timestamp": 1590049839424,
     "user": {
      "displayName": "Shivam Aggarwal",
      "photoUrl": "",
      "userId": "09581223866808255815"
     },
     "user_tz": -330
    },
    "id": "RGYM8TvSfPBF",
    "outputId": "b255fdfb-f474-405c-e642-e30a76a212f6"
   },
   "outputs": [],
   "source": [
    "EPOCHS = 6\n",
    "history = model.fit(x_train,y_train_hot,epochs = EPOCHS,batch_size = 50,validation_data =[x_test,y_test_hot])"
   ]
  },
  {
   "cell_type": "code",
   "execution_count": null,
   "metadata": {
    "colab": {
     "base_uri": "https://localhost:8080/",
     "height": 50
    },
    "colab_type": "code",
    "executionInfo": {
     "elapsed": 5318,
     "status": "ok",
     "timestamp": 1590049839820,
     "user": {
      "displayName": "Shivam Aggarwal",
      "photoUrl": "",
      "userId": "09581223866808255815"
     },
     "user_tz": -330
    },
    "id": "Mj9--0KBfyim",
    "outputId": "d8a980fa-9641-419f-df5e-a4d052ee1ede"
   },
   "outputs": [],
   "source": [
    "model.evaluate(x_test,y_test_hot)"
   ]
  },
  {
   "cell_type": "code",
   "execution_count": null,
   "metadata": {
    "colab": {
     "base_uri": "https://localhost:8080/",
     "height": 34
    },
    "colab_type": "code",
    "executionInfo": {
     "elapsed": 4178,
     "status": "ok",
     "timestamp": 1590049839825,
     "user": {
      "displayName": "Shivam Aggarwal",
      "photoUrl": "",
      "userId": "09581223866808255815"
     },
     "user_tz": -330
    },
    "id": "GXoa7kSmlZn4",
    "outputId": "4d3b5172-0baa-4c25-e31c-36d707472979"
   },
   "outputs": [],
   "source": [
    "print(history.history.keys())"
   ]
  },
  {
   "cell_type": "code",
   "execution_count": null,
   "metadata": {
    "colab": {},
    "colab_type": "code",
    "id": "yCq_KE8EkzEC"
   },
   "outputs": [],
   "source": [
    "import matplotlib.pyplot as plt\n",
    "loss_train = history.history['loss']\n",
    "loss_val = history.history['val_loss']\n",
    "epochs = range(1,EPOCHS+1)"
   ]
  },
  {
   "cell_type": "code",
   "execution_count": null,
   "metadata": {
    "colab": {},
    "colab_type": "code",
    "id": "HLDFRY-ZL5ic"
   },
   "outputs": [],
   "source": [
    "def createGraph(acc_train,acc_train_label,acc_val,acc_val_label,x_label,y_label,title):\n",
    "    x_len = max(len(acc_train),len(acc_val))\n",
    "    x = [i for i in range(1,x_len+1)]\n",
    "    plt.plot(x, acc_train, 'o-', label=acc_train_label)\n",
    "    plt.plot(x, acc_val, 'o-', label=acc_val_label)\n",
    "    plt.title(title)\n",
    "    plt.xlabel(x_label)\n",
    "    plt.ylabel(y_label)\n",
    "    plt.legend()\n",
    "    plt.grid(True)\n",
    "    plt.savefig('graphs/'+title+'.png',bbox_inches='tight')\n",
    "    plt.show()"
   ]
  },
  {
   "cell_type": "code",
   "execution_count": null,
   "metadata": {
    "colab": {
     "base_uri": "https://localhost:8080/",
     "height": 295
    },
    "colab_type": "code",
    "executionInfo": {
     "elapsed": 1134,
     "status": "ok",
     "timestamp": 1590049850327,
     "user": {
      "displayName": "Shivam Aggarwal",
      "photoUrl": "",
      "userId": "09581223866808255815"
     },
     "user_tz": -330
    },
    "id": "R21gwTVYhOCv",
    "outputId": "ecaa1be1-8ffc-41a9-e181-541a1acda1f3"
   },
   "outputs": [],
   "source": [
    "createGraph(loss_train,'Training Loss',loss_val,'Validation Loss','Epochs','Loss','Training and Validation Loss Using Vanilla NN')"
   ]
  },
  {
   "cell_type": "code",
   "execution_count": null,
   "metadata": {
    "colab": {
     "base_uri": "https://localhost:8080/",
     "height": 295
    },
    "colab_type": "code",
    "executionInfo": {
     "elapsed": 1271,
     "status": "ok",
     "timestamp": 1590049852619,
     "user": {
      "displayName": "Shivam Aggarwal",
      "photoUrl": "",
      "userId": "09581223866808255815"
     },
     "user_tz": -330
    },
    "id": "v_u_HKQhndev",
    "outputId": "f4508d17-d7e1-446e-ba5d-15fb204c4239"
   },
   "outputs": [],
   "source": [
    "acc_train = history.history['accuracy']\n",
    "acc_val = history.history['val_accuracy']\n",
    "createGraph(acc_train,'Training Accuracy',acc_val,'Validation Accuracy','Epochs','Accuracy','Training and Validation Accuracy Using Vanilla NN')"
   ]
  },
  {
   "cell_type": "code",
   "execution_count": null,
   "metadata": {
    "colab": {
     "base_uri": "https://localhost:8080/",
     "height": 295
    },
    "colab_type": "code",
    "executionInfo": {
     "elapsed": 1201,
     "status": "ok",
     "timestamp": 1590049854395,
     "user": {
      "displayName": "Shivam Aggarwal",
      "photoUrl": "",
      "userId": "09581223866808255815"
     },
     "user_tz": -330
    },
    "id": "12o9_VXWtVim",
    "outputId": "3c610507-e99f-4c2e-fa32-8ca7745baa0b"
   },
   "outputs": [],
   "source": [
    "createConfusionMatrix(y_test_hot,model.predict(x_test),\"Vanilla NN\")"
   ]
  },
  {
   "cell_type": "code",
   "execution_count": null,
   "metadata": {
    "colab": {},
    "colab_type": "code",
    "id": "2RBCgXItUDin"
   },
   "outputs": [],
   "source": [
    "y_train_hot_smooth = smooth_labels(y_train_hot)"
   ]
  },
  {
   "cell_type": "code",
   "execution_count": null,
   "metadata": {
    "colab": {
     "base_uri": "https://localhost:8080/",
     "height": 134
    },
    "colab_type": "code",
    "executionInfo": {
     "elapsed": 576,
     "status": "ok",
     "timestamp": 1590049856936,
     "user": {
      "displayName": "Shivam Aggarwal",
      "photoUrl": "",
      "userId": "09581223866808255815"
     },
     "user_tz": -330
    },
    "id": "yBiJW4W2UKIQ",
    "outputId": "1cacb8cb-e66c-4a95-bf73-11ce135e728c"
   },
   "outputs": [],
   "source": [
    "y_train_hot_smooth"
   ]
  },
  {
   "cell_type": "code",
   "execution_count": null,
   "metadata": {
    "colab": {},
    "colab_type": "code",
    "id": "uz6mBjVyu3z9"
   },
   "outputs": [],
   "source": [
    "from keras.layers import Dropout\n",
    "model = Sequential()\n",
    "model.add((Dense(units=64, activation='relu', input_dim=inputSize)))\n",
    "model.add(Dropout(rate=0.10))\n",
    "model.add((Dense(units=32, activation='relu')))\n",
    "model.add((Dense(units=3, activation='softmax')))"
   ]
  },
  {
   "cell_type": "code",
   "execution_count": null,
   "metadata": {
    "colab": {},
    "colab_type": "code",
    "id": "aHCJ7VhZu5G_"
   },
   "outputs": [],
   "source": [
    "from keras.losses import CategoricalCrossentropy\n",
    "model.compile(loss=CategoricalCrossentropy(label_smoothing = 0.1),metrics=['accuracy'],optimizer = keras.optimizers.adam(lr=0.001))"
   ]
  },
  {
   "cell_type": "code",
   "execution_count": null,
   "metadata": {
    "colab": {
     "base_uri": "https://localhost:8080/",
     "height": 235
    },
    "colab_type": "code",
    "executionInfo": {
     "elapsed": 1987,
     "status": "ok",
     "timestamp": 1590049862484,
     "user": {
      "displayName": "Shivam Aggarwal",
      "photoUrl": "",
      "userId": "09581223866808255815"
     },
     "user_tz": -330
    },
    "id": "NHOTF-U1v-sx",
    "outputId": "7f592aba-18ea-4d12-b15d-d47c90f06fbf"
   },
   "outputs": [],
   "source": [
    "EPOCHS = 6\n",
    "history = model.fit(x_train,y_train_hot_smooth,epochs = EPOCHS,batch_size = 50,validation_data =[x_test,y_test_hot])"
   ]
  },
  {
   "cell_type": "code",
   "execution_count": null,
   "metadata": {
    "colab": {},
    "colab_type": "code",
    "id": "JG1GjqPOxW-j"
   },
   "outputs": [],
   "source": [
    "import matplotlib.pyplot as plt\n",
    "loss_train = history.history['loss']\n",
    "loss_val = history.history['val_loss']\n",
    "epochs = range(1,EPOCHS+1)"
   ]
  },
  {
   "cell_type": "code",
   "execution_count": null,
   "metadata": {
    "colab": {
     "base_uri": "https://localhost:8080/",
     "height": 295
    },
    "colab_type": "code",
    "executionInfo": {
     "elapsed": 1342,
     "status": "ok",
     "timestamp": 1590049866436,
     "user": {
      "displayName": "Shivam Aggarwal",
      "photoUrl": "",
      "userId": "09581223866808255815"
     },
     "user_tz": -330
    },
    "id": "aVTXP_CHxW-n",
    "outputId": "4b10c291-730d-435d-93bb-be13ef26d78a"
   },
   "outputs": [],
   "source": [
    "createGraph(loss_train,'Training Loss',loss_val,'Validation loss','Epochs','Loss','Training and Validation Loss Using Vanilla NN with Label Smoothing')"
   ]
  },
  {
   "cell_type": "code",
   "execution_count": null,
   "metadata": {
    "colab": {
     "base_uri": "https://localhost:8080/",
     "height": 295
    },
    "colab_type": "code",
    "executionInfo": {
     "elapsed": 1682,
     "status": "ok",
     "timestamp": 1590049868805,
     "user": {
      "displayName": "Shivam Aggarwal",
      "photoUrl": "",
      "userId": "09581223866808255815"
     },
     "user_tz": -330
    },
    "id": "-09t3pPTxW-q",
    "outputId": "ec45c5ae-9844-4f4c-eb71-dabc41dd739f"
   },
   "outputs": [],
   "source": [
    "acc_train = history.history['accuracy']\n",
    "acc_val = history.history['val_accuracy']\n",
    "createGraph(acc_train,'Training Accuracy',acc_val,'Validation Accuracy','Epochs','Accuracy','Training and Validation Accuracy Using Vanilla NN with Label Smoothing')"
   ]
  },
  {
   "cell_type": "code",
   "execution_count": null,
   "metadata": {
    "colab": {
     "base_uri": "https://localhost:8080/",
     "height": 295
    },
    "colab_type": "code",
    "executionInfo": {
     "elapsed": 1720,
     "status": "ok",
     "timestamp": 1590049871393,
     "user": {
      "displayName": "Shivam Aggarwal",
      "photoUrl": "",
      "userId": "09581223866808255815"
     },
     "user_tz": -330
    },
    "id": "IglTw_dsOMa3",
    "outputId": "076af3a5-1582-4358-bcbe-543dbecc36b7"
   },
   "outputs": [],
   "source": [
    "createConfusionMatrix(y_test_hot,model.predict(x_test),\"Vanilla NN with Label Smoothing\")"
   ]
  }
 ],
 "metadata": {
  "colab": {
   "collapsed_sections": [],
   "name": "nn_POS_sentiment.ipynb",
   "provenance": []
  },
  "kernelspec": {
   "display_name": "Python 3",
   "language": "python",
   "name": "python3"
  },
  "language_info": {
   "codemirror_mode": {
    "name": "ipython",
    "version": 3
   },
   "file_extension": ".py",
   "mimetype": "text/x-python",
   "name": "python",
   "nbconvert_exporter": "python",
   "pygments_lexer": "ipython3",
   "version": "3.7.7"
  }
 },
 "nbformat": 4,
 "nbformat_minor": 1
}
