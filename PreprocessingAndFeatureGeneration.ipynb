{
 "cells": [
  {
   "cell_type": "code",
   "execution_count": null,
   "metadata": {
    "colab": {},
    "colab_type": "code",
    "id": "eXCOkXaRqGIg"
   },
   "outputs": [],
   "source": [
    "import preprocessor as tp\n",
    "import spacy\n",
    "import numpy as np\n",
    "import pandas as pd\n",
    "import csv"
   ]
  },
  {
   "cell_type": "code",
   "execution_count": null,
   "metadata": {
    "colab": {},
    "colab_type": "code",
    "id": "pgvDocRSCiHq"
   },
   "outputs": [],
   "source": [
    "df = pd.read_csv(\"AnnotatedRawData.csv\")"
   ]
  },
  {
   "cell_type": "code",
   "execution_count": null,
   "metadata": {
    "colab": {
     "base_uri": "https://localhost:8080/",
     "height": 272
    },
    "colab_type": "code",
    "id": "gXZ6OzTlC6xE",
    "outputId": "9747412f-8177-40f4-aa46-40936a77175c"
   },
   "outputs": [],
   "source": [
    "df.info()"
   ]
  },
  {
   "cell_type": "code",
   "execution_count": null,
   "metadata": {
    "colab": {},
    "colab_type": "code",
    "id": "ZIQ0vNYMC6z2"
   },
   "outputs": [],
   "source": [
    "df.drop(df.columns[df.columns.str.contains('unnamed',case = False)],axis = 1, inplace = True)"
   ]
  },
  {
   "cell_type": "code",
   "execution_count": null,
   "metadata": {
    "colab": {
     "base_uri": "https://localhost:8080/",
     "height": 238
    },
    "colab_type": "code",
    "id": "IhCrksCGC63G",
    "outputId": "8f44d1aa-409a-412e-8e30-f1d06bf872cb"
   },
   "outputs": [],
   "source": [
    "df.info()"
   ]
  },
  {
   "cell_type": "code",
   "execution_count": null,
   "metadata": {
    "colab": {},
    "colab_type": "code",
    "id": "TfZJpdRLC656"
   },
   "outputs": [],
   "source": [
    "textList = df[\"text\"]\n",
    "cleanTextList = []\n",
    "\n",
    "for txt in textList:\n",
    "    if isinstance(txt,str) == True:\n",
    "        new = str(tp.clean(txt))\n",
    "        cleanTextList.append(new)\n",
    "    else:\n",
    "        print(\"Here\")\n",
    "        cleanTextList.append(\" \")"
   ]
  },
  {
   "cell_type": "code",
   "execution_count": null,
   "metadata": {
    "colab": {},
    "colab_type": "code",
    "id": "qGcfeWIpC69V"
   },
   "outputs": [],
   "source": [
    "df[\"cleanText\"] = cleanTextList "
   ]
  },
  {
   "cell_type": "code",
   "execution_count": null,
   "metadata": {
    "colab": {
     "base_uri": "https://localhost:8080/",
     "height": 255
    },
    "colab_type": "code",
    "id": "-ueqW3qQEdUi",
    "outputId": "b4b5cbbc-67f6-47ab-e776-c810bbbcace5"
   },
   "outputs": [],
   "source": [
    "df.info()"
   ]
  },
  {
   "cell_type": "code",
   "execution_count": null,
   "metadata": {
    "colab": {},
    "colab_type": "code",
    "id": "oPtUK58vEdYM"
   },
   "outputs": [],
   "source": [
    "strPunc = \":.\\,_/|\"\n",
    "def removePunctuations(s):\n",
    "    no_pun = \"\"\n",
    "    for letter in s:\n",
    "        if letter not in strPunc:\n",
    "            no_pun += letter\n",
    "        else:\n",
    "            no_pun += \" \"\n",
    "    return no_pun"
   ]
  },
  {
   "cell_type": "code",
   "execution_count": null,
   "metadata": {
    "colab": {},
    "colab_type": "code",
    "id": "k8zB66CsEdbW"
   },
   "outputs": [],
   "source": [
    "cleanNoPun = []\n",
    "for tx in cleanTextList:\n",
    "    cleanNoPun.append(removePunctuations(tx)) "
   ]
  },
  {
   "cell_type": "code",
   "execution_count": null,
   "metadata": {
    "colab": {},
    "colab_type": "code",
    "id": "qLf8FTdkEded"
   },
   "outputs": [],
   "source": [
    "df[\"cleanTextNoPun\"] = cleanNoPun"
   ]
  },
  {
   "cell_type": "code",
   "execution_count": null,
   "metadata": {
    "colab": {
     "base_uri": "https://localhost:8080/",
     "height": 272
    },
    "colab_type": "code",
    "id": "8zdbtSr7Edh1",
    "outputId": "72b29da7-f9a6-486f-cd74-528fb55901c1"
   },
   "outputs": [],
   "source": [
    "df.info()"
   ]
  },
  {
   "cell_type": "code",
   "execution_count": null,
   "metadata": {
    "colab": {},
    "colab_type": "code",
    "id": "dcE6GzSvEdkq"
   },
   "outputs": [],
   "source": [
    "textList = df[\"text\"]\n",
    "hashList = []\n",
    "mentionList = []\n",
    "\n",
    "for txt in textList:\n",
    "      if isinstance(txt,str) == True:\n",
    "        newParse = tp.parse(txt)\n",
    "        hashes = newParse.hashtags\n",
    "        mentions = newParse.mentions\n",
    "        curHashList = []\n",
    "        curMentionList = []\n",
    "    \n",
    "        if isinstance(hashes, list) == True:\n",
    "              for h in hashes:\n",
    "                curHashList.append(h.match)\n",
    "        else:\n",
    "              curHashList.append([])\n",
    "\n",
    "        if isinstance(mentions, list) == True:\n",
    "              for m in mentions:\n",
    "                curMentionList.append(m.match)\n",
    "        else:\n",
    "              curMentionList.append([])\n",
    "\n",
    "        hashList.append(curHashList)\n",
    "        mentionList.append(curMentionList)\n",
    "    \n",
    "      else:\n",
    "        print(\"Problem Row\")\n",
    "        hashList.append(curHashList)\n",
    "        mentionList.append(curMentionList)"
   ]
  },
  {
   "cell_type": "code",
   "execution_count": null,
   "metadata": {
    "colab": {},
    "colab_type": "code",
    "id": "xQAdW4aqEdoZ"
   },
   "outputs": [],
   "source": [
    "df[\"hashtags\"] = hashList\n",
    "df[\"mentions\"] = mentionList"
   ]
  },
  {
   "cell_type": "code",
   "execution_count": null,
   "metadata": {
    "colab": {
     "base_uri": "https://localhost:8080/",
     "height": 306
    },
    "colab_type": "code",
    "id": "66L2xCJWEdrr",
    "outputId": "d40cdc5e-761c-48fc-ab63-52c97fc590eb"
   },
   "outputs": [],
   "source": [
    "df.info()"
   ]
  },
  {
   "cell_type": "code",
   "execution_count": null,
   "metadata": {
    "colab": {},
    "colab_type": "code",
    "id": "PvyMkJjsEdxw"
   },
   "outputs": [],
   "source": [
    "ct = df[\"cleanTextNoPun\"]"
   ]
  },
  {
   "cell_type": "code",
   "execution_count": null,
   "metadata": {
    "colab": {},
    "colab_type": "code",
    "id": "h_ejufQ3Ed01"
   },
   "outputs": [],
   "source": [
    "nlp = spacy.load(\"en_core_web_sm\") "
   ]
  },
  {
   "cell_type": "code",
   "execution_count": null,
   "metadata": {
    "colab": {},
    "colab_type": "code",
    "id": "QHlK4DJ7ORiR"
   },
   "outputs": [],
   "source": [
    "noun = []\n",
    "propernoun = []\n",
    "pronoun = []\n",
    "adjective = []\n",
    "adposition = []\n",
    "determiner = []\n",
    "verb = []\n",
    "adverb = []\n",
    "conjunction = []\n",
    "interjection = []\n",
    "auxiliary = []\n",
    "subconj = []"
   ]
  },
  {
   "cell_type": "code",
   "execution_count": null,
   "metadata": {
    "colab": {},
    "colab_type": "code",
    "id": "5xtnx_JAEd5E"
   },
   "outputs": [],
   "source": [
    "def pos(text):\n",
    "    doc = nlp(text)\n",
    "    noun.append([token.text for token in doc if token.pos_ == \"NOUN\"])\n",
    "    propernoun.append([token.text for token in doc if token.pos_ == \"PROPN\"])\n",
    "    pronoun.append([token.text for token in doc if token.pos_ == \"PRON\"])\n",
    "    adjective.append([token.text for token in doc if token.pos_ == \"ADJ\"])\n",
    "    determiner.append([token.text for token in doc if token.pos_ == \"DET\"])\n",
    "    adposition.append([token.text for token in doc if token.pos_ == \"ADP\"])\n",
    "    verb.append([token.text for token in doc if token.pos_ == \"VERB\"])\n",
    "    adverb.append([token.text for token in doc if token.pos_ == \"ADV\"])\n",
    "    conjunction.append([token.text for token in doc if token.pos_ == \"CONJ\"])\n",
    "    interjection.append([token.text for token in doc if token.pos_ == \"INTJ\"])\n",
    "    auxiliary.append([token.text for token in doc if token.pos_ == \"AUX\"])\n",
    "    subconj.append([token.text for token in doc if token.pos_ == \"SCONJ\"])"
   ]
  },
  {
   "cell_type": "code",
   "execution_count": null,
   "metadata": {
    "colab": {},
    "colab_type": "code",
    "id": "o9su0PO-qtZ7"
   },
   "outputs": [],
   "source": [
    "for eachline in ct:\n",
    "    pos(eachline)"
   ]
  },
  {
   "cell_type": "code",
   "execution_count": null,
   "metadata": {
    "colab": {
     "base_uri": "https://localhost:8080/",
     "height": 51
    },
    "colab_type": "code",
    "id": "wBdCkTdNChR-",
    "outputId": "b53f7a85-cfef-4909-82e2-c38f46cce069"
   },
   "outputs": [],
   "source": [
    "print(len(noun), len(pronoun), len(propernoun), len(adjective), len(determiner), len(adposition), len(verb))\n",
    "print(len(adverb), len(conjunction), len(interjection), len(auxiliary), len(subconj))"
   ]
  },
  {
   "cell_type": "code",
   "execution_count": null,
   "metadata": {
    "colab": {},
    "colab_type": "code",
    "id": "3bXF01-TTBxM"
   },
   "outputs": [],
   "source": [
    "df[\"NOUN\"] = noun\n",
    "df[\"PROPN\"] = propernoun\n",
    "df[\"PRON\"] = pronoun\n",
    "df[\"ADJ\"] = adjective\n",
    "df[\"DET\"] = determiner\n",
    "df[\"ADP\"] = adposition\n",
    "df[\"VERB\"] = verb\n",
    "df[\"ADV\"] = adverb\n",
    "df[\"CONJ\"] = conjunction\n",
    "df[\"INTJ\"] = interjection\n",
    "df[\"AUX\"] = auxiliary\n",
    "df[\"SCONJ\"] = subconj"
   ]
  },
  {
   "cell_type": "code",
   "execution_count": null,
   "metadata": {
    "colab": {
     "base_uri": "https://localhost:8080/",
     "height": 510
    },
    "colab_type": "code",
    "id": "IjDEU1N6UK8E",
    "outputId": "6a95565b-4f3f-4b12-f8c2-cd74347f58a4"
   },
   "outputs": [],
   "source": [
    "df.info()"
   ]
  },
  {
   "cell_type": "code",
   "execution_count": null,
   "metadata": {
    "colab": {},
    "colab_type": "code",
    "id": "ftHeqHtiUY4U"
   },
   "outputs": [],
   "source": [
    "lem = []\n",
    "\n",
    "def lemmitization_plus_stopwords(text):\n",
    "    doc = nlp(text)\n",
    "    cur = []\n",
    "    for token in doc:\n",
    "        if len(token) == 1:\n",
    "            continue\n",
    "        if token.pos_ == \"SYM\":\n",
    "            continue\n",
    "        if token.is_stop == True:\n",
    "            continue\n",
    "    \n",
    "        if token.pos_ == \"PRON\":\n",
    "            cur.append(str(token))\n",
    "        else:\n",
    "            cur.append(str(token.lemma_))\n",
    "    lem.append(cur)"
   ]
  },
  {
   "cell_type": "code",
   "execution_count": null,
   "metadata": {
    "colab": {},
    "colab_type": "code",
    "id": "AAz6MDcEVQlH"
   },
   "outputs": [],
   "source": [
    "for eachline in ct:\n",
    "    lemmitization_plus_stopwords(eachline)"
   ]
  },
  {
   "cell_type": "code",
   "execution_count": null,
   "metadata": {
    "colab": {
     "base_uri": "https://localhost:8080/",
     "height": 34
    },
    "colab_type": "code",
    "id": "aFu-Zr0zVZEy",
    "outputId": "8788498a-e758-450c-9a88-23686a353ddc"
   },
   "outputs": [],
   "source": [
    "print(len(lem))"
   ]
  },
  {
   "cell_type": "code",
   "execution_count": null,
   "metadata": {
    "colab": {},
    "colab_type": "code",
    "id": "gp2bcOCZViD5"
   },
   "outputs": [],
   "source": [
    "finalText = []\n",
    "for cl in lem:\n",
    "    finalText.append(' '.join(cl))"
   ]
  },
  {
   "cell_type": "code",
   "execution_count": null,
   "metadata": {
    "colab": {
     "base_uri": "https://localhost:8080/",
     "height": 34
    },
    "colab_type": "code",
    "id": "1Vihwe5oVmBK",
    "outputId": "9bd0c0de-54cf-4d58-b775-32e46f2174ab"
   },
   "outputs": [],
   "source": [
    "len(finalText)"
   ]
  },
  {
   "cell_type": "code",
   "execution_count": null,
   "metadata": {
    "colab": {},
    "colab_type": "code",
    "id": "ih5qCnMIV94s"
   },
   "outputs": [],
   "source": [
    "df[\"finalCleanText\"] = finalText"
   ]
  },
  {
   "cell_type": "code",
   "execution_count": null,
   "metadata": {
    "colab": {
     "base_uri": "https://localhost:8080/",
     "height": 527
    },
    "colab_type": "code",
    "id": "KbS80d0sdCWu",
    "outputId": "19daf251-d983-4028-bae0-b39aee96989d"
   },
   "outputs": [],
   "source": [
    "df.info()"
   ]
  },
  {
   "cell_type": "code",
   "execution_count": null,
   "metadata": {
    "colab": {},
    "colab_type": "code",
    "id": "bBRUlvp3dDr_"
   },
   "outputs": [],
   "source": [
    "df.drop(df.columns[df.columns.str.contains('unnamed',case = False)],axis = 1, inplace = True)"
   ]
  },
  {
   "cell_type": "code",
   "execution_count": null,
   "metadata": {
    "colab": {},
    "colab_type": "code",
    "id": "oPdaYg2odmWW"
   },
   "outputs": [],
   "source": [
    "noun = df[\"NOUN\"]\n",
    "propernoun = df[\"PROPN\"]\n",
    "pronoun = df[\"PRON\"]\n",
    "adjective = df[\"ADJ\"]\n",
    "determiner = df[\"DET\"]\n",
    "adposition = df[\"ADP\"]\n",
    "verb = df[\"VERB\"]\n",
    "adverb = df[\"ADV\"]\n",
    "conjunction = df[\"CONJ\"]\n",
    "interjection = df[\"INTJ\"]\n",
    "auxiliary = df[\"AUX\"]\n",
    "subconj = df[\"SCONJ\"]"
   ]
  },
  {
   "cell_type": "code",
   "execution_count": null,
   "metadata": {
    "colab": {},
    "colab_type": "code",
    "id": "A9y6rgSQeTx9"
   },
   "outputs": [],
   "source": [
    "Cnoun = []\n",
    "Cpropernoun = []\n",
    "Cpronoun = []\n",
    "Cadjective = []\n",
    "Cadposition = []\n",
    "Cdeterminer = []\n",
    "Cverb = []\n",
    "Cadverb = []\n",
    "Cconjunction = []\n",
    "Cinterjection = []\n",
    "Cauxiliary = []\n",
    "Csubconj = []"
   ]
  },
  {
   "cell_type": "code",
   "execution_count": null,
   "metadata": {
    "colab": {},
    "colab_type": "code",
    "id": "exy1J4NmeYkQ"
   },
   "outputs": [],
   "source": [
    "for x in noun:\n",
    "    Cnoun.append(len(x))\n",
    "    \n",
    "for x in propernoun:\n",
    "    Cpropernoun.append(len(x))\n",
    "\n",
    "for x in pronoun:\n",
    "    Cpronoun.append(len(x))\n",
    "\n",
    "for x in adjective:\n",
    "    Cadjective.append(len(x))\n",
    "\n",
    "for x in adposition:\n",
    "    Cadposition.append(len(x))\n",
    "\n",
    "for x in determiner:\n",
    "    Cdeterminer.append(len(x))\n",
    "\n",
    "for x in verb:\n",
    "    Cverb.append(len(x))\n",
    "\n",
    "for x in adverb:\n",
    "    Cadverb.append(len(x))\n",
    "\n",
    "for x in conjunction:\n",
    "    Cconjunction.append(len(x))\n",
    "\n",
    "for x in interjection:\n",
    "    Cinterjection.append(len(x))\n",
    "\n",
    "for x in auxiliary:\n",
    "    Cauxiliary.append(len(x))\n",
    "\n",
    "for x in subconj:\n",
    "    Csubconj.append(len(x))"
   ]
  },
  {
   "cell_type": "code",
   "execution_count": null,
   "metadata": {},
   "outputs": [],
   "source": [
    "df[\"COUNT_NOUN\"] = Cnoun\n",
    "df[\"COUNT_PROPN\"] = Cpropernoun\n",
    "df[\"COUNT_PRON\"] = Cpronoun\n",
    "df[\"COUNT_ADJ\"] = Cadjective\n",
    "df[\"COUNT_DET\"] = Cdeterminer\n",
    "df[\"COUNT_ADP\"] = Cadposition\n",
    "df[\"COUNT_VERB\"] = Cverb\n",
    "df[\"COUNT_ADV\"] = Cadverb\n",
    "df[\"COUNT_CONJ\"] = Cconjunction\n",
    "df[\"COUNT_INTJ\"] = Cinterjection\n",
    "df[\"COUNT_AUX\"] = Cauxiliary\n",
    "df[\"COUNT_SCONJ\"] = Csubconj"
   ]
  },
  {
   "cell_type": "code",
   "execution_count": null,
   "metadata": {},
   "outputs": [],
   "source": [
    "df.info()"
   ]
  },
  {
   "cell_type": "code",
   "execution_count": null,
   "metadata": {},
   "outputs": [],
   "source": [
    "from vaderSentiment.vaderSentiment import SentimentIntensityAnalyzer\n",
    "analyser = SentimentIntensityAnalyzer()"
   ]
  },
  {
   "cell_type": "code",
   "execution_count": null,
   "metadata": {},
   "outputs": [],
   "source": [
    "ps=[]\n",
    "ns=[]\n",
    "neus=[]\n",
    "cs=[]\n",
    "for row in df.itertuples():\n",
    "    text=str(row[3])\n",
    "    score = analyser.polarity_scores(text)\n",
    "    ps.append(score['pos'])\n",
    "    ns.append(score['neg'])\n",
    "    neus.append(score['neu'])\n",
    "    cs.append(score['compound'])"
   ]
  },
  {
   "cell_type": "code",
   "execution_count": null,
   "metadata": {},
   "outputs": [],
   "source": [
    "df[\"Positive_Score\"] = ps\n",
    "df[\"Negative_Score\"] = ns\n",
    "df[\"Neutral_Score\"] = neus\n",
    "df[\"Compound Score\"] = cs"
   ]
  },
  {
   "cell_type": "code",
   "execution_count": null,
   "metadata": {},
   "outputs": [],
   "source": [
    "df.info()"
   ]
  },
  {
   "cell_type": "code",
   "execution_count": null,
   "metadata": {},
   "outputs": [],
   "source": [
    "df.to_csv(\"FinalDataset.csv\")"
   ]
  }
 ],
 "metadata": {
  "colab": {
   "collapsed_sections": [],
   "name": "NEW_PRE.ipynb",
   "provenance": []
  },
  "kernelspec": {
   "display_name": "Python 3",
   "language": "python",
   "name": "python3"
  },
  "language_info": {
   "codemirror_mode": {
    "name": "ipython",
    "version": 3
   },
   "file_extension": ".py",
   "mimetype": "text/x-python",
   "name": "python",
   "nbconvert_exporter": "python",
   "pygments_lexer": "ipython3",
   "version": "3.7.7"
  }
 },
 "nbformat": 4,
 "nbformat_minor": 1
}
