{
 "cells": [
  {
   "cell_type": "code",
   "execution_count": null,
   "metadata": {},
   "outputs": [],
   "source": [
    "import pandas as pd"
   ]
  },
  {
   "cell_type": "code",
   "execution_count": null,
   "metadata": {},
   "outputs": [],
   "source": [
    "df1 = pd.read_csv() # Add file path you wish to annotate\n",
    "df1.drop(df1.columns[df1.columns.str.contains('unnamed',case = False)],axis = 1, inplace = True)\n",
    "df1.info()"
   ]
  },
  {
   "cell_type": "code",
   "execution_count": null,
   "metadata": {},
   "outputs": [],
   "source": [
    "# df1.info()\n",
    "bold_start = '\\033[1m'\n",
    "bold_end   = '\\033[0m'"
   ]
  },
  {
   "cell_type": "code",
   "execution_count": null,
   "metadata": {},
   "outputs": [],
   "source": [
    "stance = []\n",
    "opinion = []\n",
    "otherInfo = []\n",
    "Text = df1[\"cleanTextNoPun\"]\n",
    "Hash = df1[\"hashtags\"]\n",
    "Ment = df1[\"mentions\"]\n",
    "for i in range(len(df1)):\n",
    "    print(bold_start, i ,\" Text : \", Text[i], bold_end)\n",
    "    print(bold_start,\"Hashtags : \", Hash[i], bold_end)\n",
    "    print(bold_start,\"Mentions : \", Ment[i], bold_end)\n",
    "    stance.append(int(input(\"\\nProGovt -> 0 & AntiGovt -> 1 & Neutral -> 2 : \")))\n",
    "    opinion.append(int(input(\"\\nOpinion -> 0 & Neutral -> 1 : \")))\n",
    "    otherInfo.append(int(input(\"\\nEnglish -> 0 & Hindi -> 1 & Useless -> 2 : \")))\n",
    "    print(\"\\n\\n\")"
   ]
  },
  {
   "cell_type": "code",
   "execution_count": null,
   "metadata": {},
   "outputs": [],
   "source": [
    "print(len(stance), len(opinion), len(otherInfo))"
   ]
  },
  {
   "cell_type": "code",
   "execution_count": null,
   "metadata": {},
   "outputs": [],
   "source": [
    "df1 = df1[:86]\n",
    "df1[\"stance\"] = stance\n",
    "df1[\"opinion\"] = opinion\n",
    "df1[\"other\"] = otherInfo"
   ]
  },
  {
   "cell_type": "code",
   "execution_count": null,
   "metadata": {},
   "outputs": [],
   "source": [
    "df1.drop(df1.columns[df1.columns.str.contains('unnamed',case = False)],axis = 1, inplace = True)"
   ]
  },
  {
   "cell_type": "code",
   "execution_count": null,
   "metadata": {},
   "outputs": [],
   "source": [
    "df1.info()"
   ]
  },
  {
   "cell_type": "code",
   "execution_count": null,
   "metadata": {},
   "outputs": [],
   "source": [
    "df1.to_csv()"
   ]
  }
 ],
 "metadata": {
  "kernelspec": {
   "display_name": "Python 3",
   "language": "python",
   "name": "python3"
  },
  "language_info": {
   "codemirror_mode": {
    "name": "ipython",
    "version": 3
   },
   "file_extension": ".py",
   "mimetype": "text/x-python",
   "name": "python",
   "nbconvert_exporter": "python",
   "pygments_lexer": "ipython3",
   "version": "3.7.7"
  }
 },
 "nbformat": 4,
 "nbformat_minor": 2
}
