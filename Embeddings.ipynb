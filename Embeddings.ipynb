{
 "cells": [
  {
   "cell_type": "code",
   "execution_count": null,
   "metadata": {
    "colab": {},
    "colab_type": "code",
    "id": "ptlJgzZz4exF"
   },
   "outputs": [],
   "source": [
    "import spacy\n",
    "import numpy as np\n",
    "import pandas as pd\n",
    "import csv\n",
    "from google.colab import files\n",
    "from google.colab import drive"
   ]
  },
  {
   "cell_type": "code",
   "execution_count": null,
   "metadata": {
    "colab": {},
    "colab_type": "code",
    "id": "wm8ZlLat5UoR"
   },
   "outputs": [],
   "source": [
    "df = pd.read_csv(\"28_Lakh_Clean_Tweets.csv\")"
   ]
  },
  {
   "cell_type": "code",
   "execution_count": null,
   "metadata": {
    "colab": {
     "base_uri": "https://localhost:8080/",
     "height": 204
    },
    "colab_type": "code",
    "id": "jcsAuYB55age",
    "outputId": "ddfa0c8f-1058-4b05-9847-6ce883a247f2"
   },
   "outputs": [],
   "source": [
    "df.info()"
   ]
  },
  {
   "cell_type": "code",
   "execution_count": null,
   "metadata": {
    "colab": {},
    "colab_type": "code",
    "id": "J0MsMMqq5gjF"
   },
   "outputs": [],
   "source": [
    "df.drop(df.columns[df.columns.str.contains('unnamed',case = False)],axis = 1, inplace = True)"
   ]
  },
  {
   "cell_type": "code",
   "execution_count": null,
   "metadata": {
    "colab": {},
    "colab_type": "code",
    "id": "AAtzQr335luT"
   },
   "outputs": [],
   "source": [
    "from gensim.models import Word2Vec"
   ]
  },
  {
   "cell_type": "code",
   "execution_count": null,
   "metadata": {
    "colab": {},
    "colab_type": "code",
    "id": "AVNSTK-q5qOA"
   },
   "outputs": [],
   "source": [
    "text = df[\"cleanTextNoPun\"]\n",
    "\n",
    "sentences = []\n",
    "\n",
    "for s in text:\n",
    "    if isinstance(s, str):\n",
    "        sentences.append(s.split(\" \"))"
   ]
  },
  {
   "cell_type": "code",
   "execution_count": null,
   "metadata": {
    "colab": {
     "base_uri": "https://localhost:8080/",
     "height": 34
    },
    "colab_type": "code",
    "id": "rpCxOV9hBmCP",
    "outputId": "35cf3763-a875-4407-a82d-2733a1e259e8"
   },
   "outputs": [],
   "source": [
    "print(len(sentences))"
   ]
  },
  {
   "cell_type": "code",
   "execution_count": null,
   "metadata": {
    "colab": {},
    "colab_type": "code",
    "id": "8Q_sXfDZAhQN"
   },
   "outputs": [],
   "source": [
    "cl_sen = []\n",
    "\n",
    "for eachsen in sentences:\n",
    "    cursen = []\n",
    "    for eachword in eachsen:\n",
    "        if len(eachword) > 1:\n",
    "            cursen.append(eachword)\n",
    "        if len(cursen) > 4:\n",
    "            cl_sen.append(cursen)"
   ]
  },
  {
   "cell_type": "code",
   "execution_count": null,
   "metadata": {
    "colab": {
     "base_uri": "https://localhost:8080/",
     "height": 34
    },
    "colab_type": "code",
    "id": "bfBtXX2CBlRL",
    "outputId": "dd8b8294-d16a-4b13-d159-e38b15708c14"
   },
   "outputs": [],
   "source": [
    "print(len(cl_sen))"
   ]
  },
  {
   "cell_type": "code",
   "execution_count": null,
   "metadata": {
    "colab": {
     "base_uri": "https://localhost:8080/",
     "height": 207
    },
    "colab_type": "code",
    "id": "uAt4q9-PA6WZ",
    "outputId": "71124214-8f98-4ca8-f5a3-909726a11caa"
   },
   "outputs": [],
   "source": [
    "for c in cl_sen[:10]:\n",
    "    print(c)"
   ]
  },
  {
   "cell_type": "code",
   "execution_count": null,
   "metadata": {
    "colab": {},
    "colab_type": "code",
    "id": "2wl-YBl65uYR"
   },
   "outputs": [],
   "source": [
    "model = Word2Vec(cl_sen)"
   ]
  },
  {
   "cell_type": "code",
   "execution_count": null,
   "metadata": {
    "colab": {},
    "colab_type": "code",
    "id": "UsDV_iuj5xoE"
   },
   "outputs": [],
   "source": [
    "import pickle"
   ]
  },
  {
   "cell_type": "code",
   "execution_count": null,
   "metadata": {
    "colab": {},
    "colab_type": "code",
    "id": "EJk3-n_Y8pxL"
   },
   "outputs": [],
   "source": [
    "pickle.dump(model, open(\"ourWord2Vec.sav\", 'wb'))"
   ]
  },
  {
   "cell_type": "code",
   "execution_count": null,
   "metadata": {
    "colab": {
     "base_uri": "https://localhost:8080/",
     "height": 71
    },
    "colab_type": "code",
    "id": "tfK5pZMJ9fMJ",
    "outputId": "c0ade72c-dbbc-447c-9ea1-d2a92b779081"
   },
   "outputs": [],
   "source": [
    "prev_model = Word2Vec.load(\"ourWord2Vec.sav\")"
   ]
  },
  {
   "cell_type": "code",
   "execution_count": null,
   "metadata": {
    "colab": {
     "base_uri": "https://localhost:8080/",
     "height": 34
    },
    "colab_type": "code",
    "id": "9m0Qs-5a_Zqt",
    "outputId": "55642848-e20f-48aa-c4fb-438f641e08f0"
   },
   "outputs": [],
   "source": [
    "print(prev_model)"
   ]
  },
  {
   "cell_type": "code",
   "execution_count": null,
   "metadata": {
    "colab": {
     "base_uri": "https://localhost:8080/",
     "height": 34
    },
    "colab_type": "code",
    "id": "V4gmN0Tg_eLf",
    "outputId": "f84d6040-8985-46bf-b7e5-648d2d26960a"
   },
   "outputs": [],
   "source": [
    "print(model)"
   ]
  },
  {
   "cell_type": "code",
   "execution_count": null,
   "metadata": {
    "colab": {},
    "colab_type": "code",
    "id": "AWdtpxC8_pEo"
   },
   "outputs": [],
   "source": [
    "words = list(model.wv.vocab)"
   ]
  },
  {
   "cell_type": "code",
   "execution_count": null,
   "metadata": {
    "colab": {
     "base_uri": "https://localhost:8080/",
     "height": 34
    },
    "colab_type": "code",
    "id": "Rj-_OCkP_uYH",
    "outputId": "fd6255de-023e-48ec-f36b-ad4c900a2237"
   },
   "outputs": [],
   "source": [
    "len(words)"
   ]
  },
  {
   "cell_type": "code",
   "execution_count": null,
   "metadata": {
    "colab": {},
    "colab_type": "code",
    "id": "EOY-mQrK_wAe"
   },
   "outputs": [],
   "source": [
    "# words"
   ]
  },
  {
   "cell_type": "code",
   "execution_count": null,
   "metadata": {
    "colab": {},
    "colab_type": "code",
    "id": "3LIkjeeeBUs2"
   },
   "outputs": [],
   "source": [
    "from gensim.scripts.glove2word2vec import glove2word2vec"
   ]
  },
  {
   "cell_type": "code",
   "execution_count": null,
   "metadata": {
    "colab": {
     "base_uri": "https://localhost:8080/",
     "height": 377
    },
    "colab_type": "code",
    "id": "82RyGFADEtWm",
    "outputId": "509695aa-8a85-485e-c4e3-f696edb187e1"
   },
   "outputs": [],
   "source": [
    "# !wget http://nlp.stanford.edu/data/glove.twitter.27B.zip"
   ]
  },
  {
   "cell_type": "code",
   "execution_count": null,
   "metadata": {
    "colab": {
     "base_uri": "https://localhost:8080/",
     "height": 102
    },
    "colab_type": "code",
    "id": "vDVs-ntjEyLa",
    "outputId": "97c71811-8472-455a-cdbe-52c15f3fa7e0"
   },
   "outputs": [],
   "source": [
    "# !unzip glove.twitter.27B.zip"
   ]
  },
  {
   "cell_type": "code",
   "execution_count": null,
   "metadata": {
    "colab": {},
    "colab_type": "code",
    "id": "CEaj2bncIKGk"
   },
   "outputs": [],
   "source": [
    "glove_input_file = 'glove.twitter.27B.100d.txt'\n",
    "word2vec_output_file = 'stanfordTwitterGlove.word2vec'"
   ]
  },
  {
   "cell_type": "code",
   "execution_count": null,
   "metadata": {
    "colab": {
     "base_uri": "https://localhost:8080/",
     "height": 88
    },
    "colab_type": "code",
    "id": "cdSjQeW_Iy3y",
    "outputId": "ee0aebad-8aac-4bbf-cec1-4f803fde7b92"
   },
   "outputs": [],
   "source": [
    "glove2word2vec(glove_input_file, word2vec_output_file)"
   ]
  },
  {
   "cell_type": "code",
   "execution_count": null,
   "metadata": {
    "colab": {},
    "colab_type": "code",
    "id": "i293d-yOI7VN"
   },
   "outputs": [],
   "source": [
    "from gensim.models import KeyedVectors\n",
    "filename = 'stanfordTwitterGlove.word2vec'"
   ]
  },
  {
   "cell_type": "code",
   "execution_count": null,
   "metadata": {
    "colab": {
     "base_uri": "https://localhost:8080/",
     "height": 71
    },
    "colab_type": "code",
    "id": "uTIgg2NaJzUU",
    "outputId": "d7a39eca-f4bd-4a8d-c9d6-5cd89603f934"
   },
   "outputs": [],
   "source": [
    "model = KeyedVectors.load_word2vec_format(filename, binary=False)"
   ]
  },
  {
   "cell_type": "code",
   "execution_count": null,
   "metadata": {
    "colab": {},
    "colab_type": "code",
    "id": "4gy4ZCd0KKg7"
   },
   "outputs": [],
   "source": [
    "pickle.dump(model, open(\"stanfordTwitterGlove_Word2Vec.sav\", 'wb'))"
   ]
  }
 ],
 "metadata": {
  "colab": {
   "name": "Embeddings.ipynb",
   "provenance": []
  },
  "kernelspec": {
   "display_name": "Python 3",
   "language": "python",
   "name": "python3"
  },
  "language_info": {
   "codemirror_mode": {
    "name": "ipython",
    "version": 3
   },
   "file_extension": ".py",
   "mimetype": "text/x-python",
   "name": "python",
   "nbconvert_exporter": "python",
   "pygments_lexer": "ipython3",
   "version": "3.7.7"
  }
 },
 "nbformat": 4,
 "nbformat_minor": 1
}
